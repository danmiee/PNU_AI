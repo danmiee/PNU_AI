{
 "cells": [
  {
   "attachments": {},
   "cell_type": "markdown",
   "metadata": {},
   "source": [
    "## Basics of Python"
   ]
  },
  {
   "attachments": {},
   "cell_type": "markdown",
   "metadata": {},
   "source": [
    "### Strings"
   ]
  },
  {
   "cell_type": "code",
   "execution_count": 119,
   "metadata": {},
   "outputs": [
    {
     "data": {
      "text/plain": [
       "'Quote me on this'"
      ]
     },
     "execution_count": 119,
     "metadata": {},
     "output_type": "execute_result"
    }
   ],
   "source": [
    "'Quote me on this'\n"
   ]
  },
  {
   "cell_type": "code",
   "execution_count": 120,
   "metadata": {},
   "outputs": [
    {
     "data": {
      "text/plain": [
       "\"What's your name?\""
      ]
     },
     "execution_count": 120,
     "metadata": {},
     "output_type": "execute_result"
    }
   ],
   "source": [
    "\"What's your name?\""
   ]
  },
  {
   "cell_type": "code",
   "execution_count": 121,
   "metadata": {},
   "outputs": [
    {
     "data": {
      "text/plain": [
       "'This is \"Dan-mi\"'"
      ]
     },
     "execution_count": 121,
     "metadata": {},
     "output_type": "execute_result"
    }
   ],
   "source": [
    "'This is \"Dan-mi\"'"
   ]
  },
  {
   "cell_type": "code",
   "execution_count": 122,
   "metadata": {},
   "outputs": [
    {
     "data": {
      "text/plain": [
       "'This is the first line.\\nThis is the second line.\\nHe said \"Bond, James Bond.\"'"
      ]
     },
     "execution_count": 122,
     "metadata": {},
     "output_type": "execute_result"
    }
   ],
   "source": [
    "x = '''This is the first line.\n",
    "This is the second line.\n",
    "He said \"Bond, James Bond.\"'''\n",
    "x\n"
   ]
  },
  {
   "cell_type": "code",
   "execution_count": 123,
   "metadata": {},
   "outputs": [
    {
     "data": {
      "text/plain": [
       "'This is the first line.This is the second line.He said \"Bond, James Bond.\"'"
      ]
     },
     "execution_count": 123,
     "metadata": {},
     "output_type": "execute_result"
    }
   ],
   "source": [
    "x = 'This is the first line.\\\n",
    "This is the second line.\\\n",
    "He said \"Bond, James Bond.\"'\n",
    "x\n"
   ]
  },
  {
   "cell_type": "code",
   "execution_count": 124,
   "metadata": {},
   "outputs": [
    {
     "data": {
      "text/plain": [
       "'goodbye'"
      ]
     },
     "execution_count": 124,
     "metadata": {},
     "output_type": "execute_result"
    }
   ],
   "source": [
    "'good'+'bye'"
   ]
  },
  {
   "cell_type": "code",
   "execution_count": 125,
   "metadata": {},
   "outputs": [
    {
     "data": {
      "text/plain": [
       "'ababab'"
      ]
     },
     "execution_count": 125,
     "metadata": {},
     "output_type": "execute_result"
    }
   ],
   "source": [
    "('a'+'b')*3"
   ]
  },
  {
   "cell_type": "code",
   "execution_count": 126,
   "metadata": {},
   "outputs": [
    {
     "data": {
      "text/plain": [
       "'aaabbb'"
      ]
     },
     "execution_count": 126,
     "metadata": {},
     "output_type": "execute_result"
    }
   ],
   "source": [
    "'a'*3+'b'*3"
   ]
  },
  {
   "cell_type": "code",
   "execution_count": 127,
   "metadata": {},
   "outputs": [
    {
     "data": {
      "text/plain": [
       "'hahaha'"
      ]
     },
     "execution_count": 127,
     "metadata": {},
     "output_type": "execute_result"
    }
   ],
   "source": [
    "'ha'*3"
   ]
  },
  {
   "attachments": {},
   "cell_type": "markdown",
   "metadata": {},
   "source": [
    "eval : string으로 이루어진 수식을 실행 후 결과 반환"
   ]
  },
  {
   "cell_type": "code",
   "execution_count": 128,
   "metadata": {},
   "outputs": [
    {
     "data": {
      "text/plain": [
       "33"
      ]
     },
     "execution_count": 128,
     "metadata": {},
     "output_type": "execute_result"
    }
   ],
   "source": [
    "x=5\n",
    "eval('23+(2*x)')"
   ]
  },
  {
   "attachments": {},
   "cell_type": "markdown",
   "metadata": {},
   "source": [
    "exec : string으로 이루어진 수식을 실행 / 결과값을 반환하지는 않음"
   ]
  },
  {
   "cell_type": "code",
   "execution_count": 129,
   "metadata": {},
   "outputs": [],
   "source": [
    "exec('x=2')"
   ]
  },
  {
   "cell_type": "code",
   "execution_count": 130,
   "metadata": {},
   "outputs": [
    {
     "name": "stdout",
     "output_type": "stream",
     "text": [
      "5.6\n",
      "5\n",
      "5.0\n",
      "10%\n"
     ]
    }
   ],
   "source": [
    "print(str(5.6))\n",
    "print(str(5))\n",
    "print(str(5.))\n",
    "x = 10\n",
    "print(str(x)+'%')"
   ]
  },
  {
   "cell_type": "code",
   "execution_count": 131,
   "metadata": {},
   "outputs": [
    {
     "name": "stdout",
     "output_type": "stream",
     "text": [
      "PYTHON\n",
      "python\n",
      "1\n",
      "Code\n",
      "Ben Hur\n",
      "    ab\n",
      "ab\n",
      "ab    \n"
     ]
    }
   ],
   "source": [
    "strl = \"Python\"\n",
    "print(strl.upper())  #대문자로\n",
    "print(strl.lower())  #소문자로\n",
    "print(strl.count('th'))\n",
    "print('coDE'.capitalize())\n",
    "print(\"beN hur\".title())\n",
    "print('    ab    '.rstrip())  # 오른쪽 끝 공백 제거\n",
    "print('    ab    '.strip())   # 양쪽 끝 공백 제거\n",
    "print('    ab    '.lstrip())  # 왼쪽 끝 공백 제거"
   ]
  },
  {
   "attachments": {},
   "cell_type": "markdown",
   "metadata": {},
   "source": [
    "### 보다 파이썬다운 compact한 코드 작성"
   ]
  },
  {
   "cell_type": "code",
   "execution_count": 132,
   "metadata": {},
   "outputs": [
    {
     "name": "stdout",
     "output_type": "stream",
     "text": [
      "3\n"
     ]
    }
   ],
   "source": [
    "# praise=\"Good Doggie\".upper()\n",
    "# numberOfGees = praise.count('G')\n",
    "# print(numberOfGees)\n",
    "\n",
    "numberOfGees = \"Good Doggie\".upper().count('G')\n",
    "print(numberOfGees)"
   ]
  },
  {
   "attachments": {},
   "cell_type": "markdown",
   "metadata": {},
   "source": [
    "### Indices and Slices"
   ]
  },
  {
   "cell_type": "code",
   "execution_count": 133,
   "metadata": {},
   "outputs": [
    {
     "name": "stdout",
     "output_type": "stream",
     "text": [
      "Python\n",
      "y n th\n",
      "6\n",
      "-1\n",
      "9\n"
     ]
    }
   ],
   "source": [
    "print('Python')\n",
    "print('Python'[1], 'Python'[5], 'Python'[2:4])\n",
    "strl = 'Hello World'\n",
    "print(strl.find('W'))   # 가장 왼쪽에 있는 W의 인덱스\n",
    "print(strl.find('x'))   # 없으면 -1 반환\n",
    "print(strl.rfind('l'))  # 가장 오른쪽에 있는 l의 인덱스"
   ]
  },
  {
   "cell_type": "code",
   "execution_count": 134,
   "metadata": {},
   "outputs": [
    {
     "name": "stdout",
     "output_type": "stream",
     "text": [
      "Python\n",
      "n t yth\n",
      "g\n",
      "m & e\n",
      "spam & egg\n"
     ]
    }
   ],
   "source": [
    "print('Python')\n",
    "print('Python'[-1], 'Python'[-4], 'Python'[-5:-2])\n",
    "strl = 'spam & eggs'\n",
    "print(strl[-2])\n",
    "print(strl[-8:-3])\n",
    "print(strl[0:-1])\n"
   ]
  },
  {
   "cell_type": "code",
   "execution_count": 135,
   "metadata": {},
   "outputs": [
    {
     "name": "stdout",
     "output_type": "stream",
     "text": [
      "thon Pyth Python\n",
      "hon Pyt\n"
     ]
    }
   ],
   "source": [
    "print('Python'[2:], 'Python'[:4], 'Python'[:])\n",
    "print('Python'[-3:], 'Python'[:-3])"
   ]
  },
  {
   "attachments": {},
   "cell_type": "markdown",
   "metadata": {},
   "source": [
    "### Optional print Arguments"
   ]
  },
  {
   "cell_type": "code",
   "execution_count": 136,
   "metadata": {},
   "outputs": [
    {
     "name": "stdout",
     "output_type": "stream",
     "text": [
      "5*7\n",
      "Hello World\n",
      "HelloWorld\n",
      "1    two    3\n",
      "Hello World\n"
     ]
    }
   ],
   "source": [
    "x=5; y=7\n",
    "print(x, y, sep='*')\n",
    "print(\"Hello\", \"World\")\n",
    "print(\"Hello\", \"World\", sep=\"\")\n",
    "print('1', 'two', 3, sep='    ')\n",
    "print(\"Hello\", end=\" \")             # default = \"\\n\"\n",
    "print(\"World\")"
   ]
  },
  {
   "attachments": {},
   "cell_type": "markdown",
   "metadata": {},
   "source": [
    "### The format Method"
   ]
  },
  {
   "cell_type": "code",
   "execution_count": 137,
   "metadata": {},
   "outputs": [
    {
     "name": "stdout",
     "output_type": "stream",
     "text": [
      "Swaroop was 20 years old when he wrote the book\n",
      "      A Byte of Python.\n",
      "Why is Swaroop playing with that python?\n"
     ]
    }
   ],
   "source": [
    "age = 20\n",
    "name = 'Swaroop'\n",
    "# 변수 들어갈 위치에 {숫자} 기재하여 문장작성 후 .format(변수명0, 변수명1, ...)\n",
    "print('''{0} was {1} years old when he wrote the book\n",
    "      A Byte of Python.'''.format(name, age))\n",
    "print('Why is {0} playing with that python?'.format(name))"
   ]
  },
  {
   "cell_type": "code",
   "execution_count": 138,
   "metadata": {},
   "outputs": [
    {
     "name": "stdout",
     "output_type": "stream",
     "text": [
      "0123456789012345678901234567\n",
      "Rank Player               HR\n",
      "  1  Barry Bonds         762\n",
      "  2  Hank Aaron          755\n",
      "  3  Babe Ruth           714\n"
     ]
    }
   ],
   "source": [
    "print(\"0123456789012345678901234567\")\n",
    "# ^ : 가운데정렬 / < : 왼쪽정렬 / > : 오른쪽정렬\n",
    "print(\"{0:^5}{1:<20}{2:>3}\".format(\"Rank\",\"Player\",\"HR\"))\n",
    "print(\"{0:^5}{1:<20}{2:>3}\".format(1, \"Barry Bonds\", 762))\n",
    "print(\"{0:^5}{1:<20}{2:>3}\".format(2, \"Hank Aaron\", 755))\n",
    "print(\"{0:^5}{1:<20}{2:>3}\".format(3, \"Babe Ruth\", 714))"
   ]
  },
  {
   "cell_type": "code",
   "execution_count": 139,
   "metadata": {},
   "outputs": [
    {
     "name": "stdout",
     "output_type": "stream",
     "text": [
      "   1234.57\n",
      "  1,234.57\n",
      " 1,234.568\n",
      "123,456.78%\n",
      "123,456.780%\n",
      "12,345,678\n",
      "___hello___\n",
      "hello______\n",
      "______hello\n",
      "Swaroop wrote A Byte of Python\n",
      "0.3333333333333333\n",
      "0.3333333333333333\n"
     ]
    }
   ],
   "source": [
    "print('{0:10.2f}'.format(1234.5678))    # f : 부동소수점\n",
    "print('{0:10,.2f}'.format(1234.5678))\n",
    "print('{0:10,.3f}'.format(1234.5678))\n",
    "print('{0:10,.2%}'.format(1234.5678))   # % : 백분율로 표기\n",
    "print('{0:10,.3%}'.format(1234.5678))\n",
    "print('{0:10,}'.format(12345678))\n",
    "print('{0:_^11}'.format('hello'))       # 빈칸에 _ 기재\n",
    "print('{0:_<11}'.format('hello'))\n",
    "print('{0:_>11}'.format('hello'))\n",
    "print('{name} wrote {book}'.format(name='Swaroop',\n",
    "                                   book='A Byte of Python'))\n",
    "print(1.0/3)\n",
    "print(1/3)"
   ]
  },
  {
   "attachments": {},
   "cell_type": "markdown",
   "metadata": {},
   "source": [
    "### Escape Sequences"
   ]
  },
  {
   "cell_type": "code",
   "execution_count": 140,
   "metadata": {},
   "outputs": [
    {
     "name": "stdout",
     "output_type": "stream",
     "text": [
      "What's your name?\n",
      "What's your name?\n",
      "He said, \"Bond, James Bond.\"\n",
      "He said, \"Bond, James Bond.\"\n"
     ]
    }
   ],
   "source": [
    "# print('What's your name?')  # SyntaxError: unterminated string literal\n",
    "\n",
    "print(\"What's your name?\")\n",
    "print('What\\'s your name?')\n",
    "print('He said, \"Bond, James Bond.\"')\n",
    "print(\"He said, \\\"Bond, James Bond.\\\"\")\n"
   ]
  },
  {
   "cell_type": "code",
   "execution_count": 141,
   "metadata": {},
   "outputs": [
    {
     "name": "stdout",
     "output_type": "stream",
     "text": [
      "How can you prevent \\n from being printed?\n",
      "How can you prevent \n",
      " from being printed?\n",
      "A backslash at the end of the line \\ indicates line continuation\n"
     ]
    }
   ],
   "source": [
    "print('How can you prevent \\\\n from being printed?')\n",
    "print('How can you prevent \\n from being printed?')\n",
    "print('A backslash at the end of the line \\ indicates line continuation')"
   ]
  },
  {
   "attachments": {},
   "cell_type": "markdown",
   "metadata": {},
   "source": [
    "row string"
   ]
  },
  {
   "cell_type": "code",
   "execution_count": 142,
   "metadata": {},
   "outputs": [
    {
     "name": "stdout",
     "output_type": "stream",
     "text": [
      "New lines are indicated by \n",
      ".\n",
      "New lines are indicated by \\n.\n"
     ]
    }
   ],
   "source": [
    "print(\"New lines are indicated by \\n.\")\n",
    "print(r\"New lines are indicated by \\n.\")\n"
   ]
  },
  {
   "attachments": {},
   "cell_type": "markdown",
   "metadata": {},
   "source": [
    "### Keyboard Input"
   ]
  },
  {
   "cell_type": "code",
   "execution_count": 143,
   "metadata": {},
   "outputs": [
    {
     "data": {
      "text/plain": [
       "''"
      ]
     },
     "execution_count": 143,
     "metadata": {},
     "output_type": "execute_result"
    }
   ],
   "source": [
    "name = input(\"What is your name?\")\n",
    "name"
   ]
  },
  {
   "cell_type": "code",
   "execution_count": 144,
   "metadata": {},
   "outputs": [
    {
     "ename": "ValueError",
     "evalue": "invalid literal for int() with base 10: ''",
     "output_type": "error",
     "traceback": [
      "\u001b[1;31m---------------------------------------------------------------------------\u001b[0m",
      "\u001b[1;31mValueError\u001b[0m                                Traceback (most recent call last)",
      "Cell \u001b[1;32mIn[144], line 3\u001b[0m\n\u001b[0;32m      1\u001b[0m prompt \u001b[39m=\u001b[39m \u001b[39m'\u001b[39m\u001b[39mWhat is the airspeed velocity of a swallow?\u001b[39m\u001b[39m\\n\u001b[39;00m\u001b[39m'\u001b[39m\n\u001b[0;32m      2\u001b[0m speed1 \u001b[39m=\u001b[39m \u001b[39minput\u001b[39m(prompt)\n\u001b[1;32m----> 3\u001b[0m speed2 \u001b[39m=\u001b[39m \u001b[39mint\u001b[39;49m(speed1)    \u001b[39m# input값은 str으로 저장 > 원하는 형태로 형변환\u001b[39;00m\n\u001b[0;32m      4\u001b[0m speed1, speed2\n",
      "\u001b[1;31mValueError\u001b[0m: invalid literal for int() with base 10: ''"
     ]
    }
   ],
   "source": [
    "prompt = 'What is the airspeed velocity of a swallow?\\n'\n",
    "speed1 = input(prompt)\n",
    "speed2 = int(speed1)    # input값은 str으로 저장 > 원하는 형태로 형변환\n",
    "speed1, speed2"
   ]
  },
  {
   "cell_type": "code",
   "execution_count": null,
   "metadata": {},
   "outputs": [
    {
     "name": "stdout",
     "output_type": "stream",
     "text": [
      "Last name:  Roosevelt\n",
      "First name(s):  Franklin Delano\n"
     ]
    }
   ],
   "source": [
    "fullName = input(\"Enter a full name: \")\n",
    "n = fullName.rfind(' ')\n",
    "print('Last name: ', fullName[n+1:])\n",
    "print('First name(s): ',fullName[:n])"
   ]
  },
  {
   "attachments": {},
   "cell_type": "markdown",
   "metadata": {},
   "source": [
    "### Indentation and Line Joining"
   ]
  },
  {
   "attachments": {},
   "cell_type": "markdown",
   "metadata": {},
   "source": [
    "들여쓰기 안 맞으면 오류 발생!"
   ]
  },
  {
   "cell_type": "code",
   "execution_count": 83,
   "metadata": {},
   "outputs": [
    {
     "name": "stdout",
     "output_type": "stream",
     "text": [
      "Value is  5\n"
     ]
    }
   ],
   "source": [
    "i = 5\n",
    "print('Value is ', i)\n",
    "  # print('I repeat, the Value is ', i)"
   ]
  },
  {
   "attachments": {},
   "cell_type": "markdown",
   "metadata": {},
   "source": [
    "줄바꿀 때 문장 이어짐 여부가 명확하게 구분이 되면 별도의 표시가 없어도 오류 없음"
   ]
  },
  {
   "cell_type": "code",
   "execution_count": null,
   "metadata": {},
   "outputs": [
    {
     "name": "stdout",
     "output_type": "stream",
     "text": [
      "The area of Texas is 268,820 square miles.\n",
      "The population of Texas is 8.56% of the U.S. population.\n"
     ]
    }
   ],
   "source": [
    "print('The area of {0} is {1:,} square miles.'\n",
    ".format('Texas', 268820))\n",
    "strl = 'The population of {0} is {1:.2%} of \\\n",
    "the U.S. population.'\n",
    "print(strl.format('Texas', 26448000. / 309000000))"
   ]
  },
  {
   "attachments": {},
   "cell_type": "markdown",
   "metadata": {},
   "source": [
    "## Operators and Control Flow"
   ]
  },
  {
   "attachments": {},
   "cell_type": "markdown",
   "metadata": {},
   "source": [
    "### Operators"
   ]
  },
  {
   "cell_type": "code",
   "execution_count": null,
   "metadata": {},
   "outputs": [
    {
     "data": {
      "text/plain": [
       "8"
      ]
     },
     "execution_count": 96,
     "metadata": {},
     "output_type": "execute_result"
    }
   ],
   "source": [
    "3+5\n",
    "3+5.0\n",
    "50-24\n",
    "-5.2\n",
    "2*3\n",
    "2.0*3\n",
    "3**4\n",
    "13/3\n",
    "13//3       # 몫\n",
    "3.5//2      # 실수 나눗셈 몫\n",
    "13%3        # 나머지\n",
    "-25.5%2.25  # 실수 나눗셈 나머지\n",
    "2<<2        # 10을 왼쪽으로 2칸 이동 1000 = 8\n",
    "11>>1       # 1011을 오른쪽으로 1칸 이동 101 = 5\n",
    "5%3         # 101 and 011 : 둘다 1인 경우 1 = 001 = 1\n",
    "5|3         # 101 or 011 : 둘 중 하나 1인 경우 1 = 111 = 7\n",
    "5^3         # 101 xor 011 : 같은자리 더한값 = 110 = 6\n",
    "~5          # ~x = -(x+1)"
   ]
  },
  {
   "cell_type": "code",
   "execution_count": null,
   "metadata": {},
   "outputs": [
    {
     "data": {
      "text/plain": [
       "True"
      ]
     },
     "execution_count": 97,
     "metadata": {},
     "output_type": "execute_result"
    }
   ],
   "source": [
    "5<3\n",
    "3<5\n",
    "3<5<7\n",
    "3<9>8"
   ]
  },
  {
   "attachments": {},
   "cell_type": "markdown",
   "metadata": {},
   "source": [
    "short-circuit evaluation\n",
    "\n",
    "y is not evaluated if x is True"
   ]
  },
  {
   "cell_type": "code",
   "execution_count": null,
   "metadata": {},
   "outputs": [
    {
     "data": {
      "text/plain": [
       "False"
      ]
     },
     "execution_count": 98,
     "metadata": {},
     "output_type": "execute_result"
    }
   ],
   "source": [
    "l = 10\n",
    "m = 5\n",
    "n = 0\n",
    "(n!=0) and (1==(m/n))\n",
    "# n=0이기 때문에 1==(m/n) 부분 확인 안하고 False 반환"
   ]
  },
  {
   "attachments": {},
   "cell_type": "markdown",
   "metadata": {},
   "source": [
    "in : substring of\n",
    "\n",
    "not in : not a substring of\n",
    "\n",
    "str.isdigit()\n",
    "\n",
    "str.isalpha()\n",
    "\n",
    "str.isalnum()"
   ]
  },
  {
   "attachments": {},
   "cell_type": "markdown",
   "metadata": {},
   "source": [
    "### Precedence and Order of Evaluation"
   ]
  },
  {
   "attachments": {},
   "cell_type": "markdown",
   "metadata": {},
   "source": [
    "우선순위 표 참고하기\n",
    "\n",
    "같은 셀이 있는 연산자는 왼쪽부터 순서대로 계산"
   ]
  },
  {
   "attachments": {},
   "cell_type": "markdown",
   "metadata": {},
   "source": [
    "### Expressions(수식)"
   ]
  },
  {
   "cell_type": "code",
   "execution_count": null,
   "metadata": {},
   "outputs": [
    {
     "name": "stdout",
     "output_type": "stream",
     "text": [
      "Area is 7\n",
      "Perimeter is 14\n"
     ]
    }
   ],
   "source": [
    "length = 5    # statement\n",
    "breadth = 2   # statement\n",
    "\n",
    "area = length + breadth   # expression\n",
    "\n",
    "print('Area is', area)\n",
    "print('Perimeter is', 2*(length + breadth))"
   ]
  },
  {
   "attachments": {},
   "cell_type": "markdown",
   "metadata": {},
   "source": [
    "### Decision Structures"
   ]
  },
  {
   "cell_type": "code",
   "execution_count": null,
   "metadata": {},
   "outputs": [
    {
     "name": "stdout",
     "output_type": "stream",
     "text": [
      "Congratulations, you guessed it.\n",
      "(but you do not win any prizes!)\n",
      "Done\n"
     ]
    }
   ],
   "source": [
    "number = 23\n",
    "guess = int(input('Enter an integer: '))\n",
    "\n",
    "if guess == number:\n",
    "  print('Congratulations, you guessed it.')\n",
    "  print('(but you do not win any prizes!)')\n",
    "else:\n",
    "  if guess < number:\n",
    "    print('No, it is a little higher than that')\n",
    "  else:\n",
    "    print('No, it is a little lower than that')\n",
    "\n",
    "print('Done')"
   ]
  },
  {
   "attachments": {},
   "cell_type": "markdown",
   "metadata": {},
   "source": [
    "if문 indentation 정리 및 깔끔하게 작성"
   ]
  },
  {
   "cell_type": "code",
   "execution_count": null,
   "metadata": {},
   "outputs": [
    {
     "name": "stdout",
     "output_type": "stream",
     "text": [
      "Congratulations, you guessed it.\n",
      "(but you do not win any prizes!)\n",
      "Done\n"
     ]
    }
   ],
   "source": [
    "number = 23\n",
    "guess = int(input('Enter an integer: '))                  # 실수 입력해도 정수로 변환\n",
    "\n",
    "if guess == number:\n",
    "  print('Congratulations, you guessed it.')\n",
    "  print('(but you do not win any prizes!)')\n",
    "elif guess < number:\n",
    "  print('No, it is a little higher than that')\n",
    "else:\n",
    "  print('No, it is a little lower than that')\n",
    "\n",
    "print('Done')"
   ]
  },
  {
   "attachments": {},
   "cell_type": "markdown",
   "metadata": {},
   "source": [
    "eval 활용 / if만(elif, else 없이) 사용 가능"
   ]
  },
  {
   "cell_type": "code",
   "execution_count": null,
   "metadata": {},
   "outputs": [
    {
     "name": "stdout",
     "output_type": "stream",
     "text": [
      "The largest number is 7.\n",
      "The largest number is 7 .\n"
     ]
    }
   ],
   "source": [
    "firstNumber = eval(input('Enter the first number: '))     # 실수 입력 시 실수값 그대로 계산\n",
    "secondNumber = eval(input('Enter the second number: '))\n",
    "thirdNumber = eval(input('Enter the third number: '))\n",
    "\n",
    "largest = firstNumber\n",
    "if secondNumber > largest:\n",
    "  largest = secondNumber\n",
    "if thirdNumber> largest:\n",
    "  largest = thirdNumber\n",
    "print('The largest number is', str(largest) + '.')\n",
    "print('The largest number is', largest, '.')"
   ]
  },
  {
   "attachments": {},
   "cell_type": "markdown",
   "metadata": {},
   "source": [
    "### The while Loop"
   ]
  },
  {
   "attachments": {},
   "cell_type": "markdown",
   "metadata": {},
   "source": [
    "else 붙일 수 있음"
   ]
  },
  {
   "cell_type": "code",
   "execution_count": null,
   "metadata": {},
   "outputs": [
    {
     "name": "stdout",
     "output_type": "stream",
     "text": [
      "No, it is a little lower than that\n",
      "No, it is a little lower than that\n",
      "No, it is a little lower than that\n",
      "No, it is a little higher than that\n",
      "Congratulations, you guessed it.\n",
      "The while loop is over.\n",
      "Done\n"
     ]
    }
   ],
   "source": [
    "number = 23\n",
    "running = True\n",
    "\n",
    "while running:\n",
    "  guess = int(input('Enter an integer: '))                  # 실수 입력해도 정수로 변환\n",
    "  if guess == number:\n",
    "    print('Congratulations, you guessed it.')\n",
    "    running = False\n",
    "  elif guess < number:\n",
    "    print('No, it is a little higher than that')\n",
    "  else:\n",
    "    print('No, it is a little lower than that')\n",
    "else:\n",
    "  print('The while loop is over.')\n",
    "print('Done')"
   ]
  },
  {
   "cell_type": "code",
   "execution_count": null,
   "metadata": {},
   "outputs": [
    {
     "name": "stdout",
     "output_type": "stream",
     "text": [
      "(Enter -1 to terminate entering numbers.)\n",
      "Minimum:  3\n",
      "Maximum:  7\n",
      "Average:  4.666666666666667\n"
     ]
    }
   ],
   "source": [
    "count = 0\n",
    "total = 0\n",
    "\n",
    "print('(Enter -1 to terminate entering numbers.)')\n",
    "num = int(input('Enter a nonnegative integer: '))\n",
    "min = num\n",
    "max = num\n",
    "\n",
    "while num!= -1:\n",
    "  count += 1\n",
    "  total += num\n",
    "  if num < min:\n",
    "    min = num\n",
    "  if num > max:\n",
    "    max = num\n",
    "  num = int(input('Enter a nonnegative integer: '))\n",
    "\n",
    "if count > 0:\n",
    "  print('Minimum: ', min)\n",
    "  print('Maximum: ', max)\n",
    "  print('Average: ', total / count)\n",
    "else:\n",
    "  print('No nonnegative integers were entered.')"
   ]
  },
  {
   "attachments": {},
   "cell_type": "markdown",
   "metadata": {},
   "source": [
    "### The for Loop"
   ]
  },
  {
   "cell_type": "code",
   "execution_count": 147,
   "metadata": {},
   "outputs": [
    {
     "data": {
      "text/plain": [
       "range(1, 5)"
      ]
     },
     "execution_count": 147,
     "metadata": {},
     "output_type": "execute_result"
    }
   ],
   "source": [
    "range(1,5)"
   ]
  },
  {
   "cell_type": "code",
   "execution_count": 146,
   "metadata": {},
   "outputs": [
    {
     "data": {
      "text/plain": [
       "[1, 2, 3, 4]"
      ]
     },
     "execution_count": 146,
     "metadata": {},
     "output_type": "execute_result"
    }
   ],
   "source": [
    "list(range(1,5))"
   ]
  },
  {
   "cell_type": "code",
   "execution_count": null,
   "metadata": {},
   "outputs": [
    {
     "name": "stdout",
     "output_type": "stream",
     "text": [
      "1 2 3 4 \n",
      "The for loop is over\n"
     ]
    }
   ],
   "source": [
    "for i in range(1,5):\n",
    "  print(i,end=\" \")\n",
    "else:\n",
    "  print('\\nThe for loop is over')"
   ]
  },
  {
   "attachments": {},
   "cell_type": "markdown",
   "metadata": {},
   "source": [
    "Nested for loops"
   ]
  },
  {
   "cell_type": "code",
   "execution_count": 153,
   "metadata": {},
   "outputs": [
    {
     "name": "stdout",
     "output_type": "stream",
     "text": [
      "*\n",
      "**\n",
      "***\n",
      "****\n",
      "*****\n"
     ]
    }
   ],
   "source": [
    "numberOfRows = int(input('Enter a numbe from 1 to 20: '))\n",
    "for i in range(0,numberOfRows):\n",
    "  for j in range(i+1):\n",
    "    print('*', end='')\n",
    "  print()"
   ]
  },
  {
   "attachments": {},
   "cell_type": "markdown",
   "metadata": {},
   "source": [
    "Looping through the characters of a string"
   ]
  },
  {
   "cell_type": "code",
   "execution_count": 155,
   "metadata": {},
   "outputs": [
    {
     "name": "stdout",
     "output_type": "stream",
     "text": [
      "The reversed word is suez.\n"
     ]
    }
   ],
   "source": [
    "word = input('Enter a word: ')\n",
    "reverseWord = ''\n",
    "\n",
    "for ch in word:\n",
    "  reverseWord = ch + reverseWord\n",
    "print('The reversed word is ' + reverseWord + '.')"
   ]
  },
  {
   "attachments": {},
   "cell_type": "markdown",
   "metadata": {},
   "source": [
    "Looping through the lines of a textfile"
   ]
  },
  {
   "cell_type": "code",
   "execution_count": null,
   "metadata": {},
   "outputs": [],
   "source": [
    "infile = open('fileName.txt', 'r')\n",
    "for line in infile:\n",
    "  # indented block of statements\n",
    "  ''\n",
    "infile.close()\n",
    "  "
   ]
  },
  {
   "cell_type": "code",
   "execution_count": 12,
   "metadata": {},
   "outputs": [
    {
     "name": "stdout",
     "output_type": "stream",
     "text": [
      "John Adams\n",
      "John Quincy Adams\n",
      "John Tyler\n",
      "John F. Kennedy\n"
     ]
    }
   ],
   "source": [
    "firstName = input('Enter a first name: ')\n",
    "foundFlag = False\n",
    "infile = open('USPresidents.txt', 'r')\n",
    "for line in infile:\n",
    "  if line.startswith(firstName + ' '):\n",
    "    print(line.rstrip())\n",
    "    foundFlag = True\n",
    "infile.close()\n",
    "if not foundFlag:\n",
    "  print('No president had the first name', firstName + '.')"
   ]
  },
  {
   "attachments": {},
   "cell_type": "markdown",
   "metadata": {},
   "source": [
    "The pass statement : 조회만하고 지나감 / for문 밖에서도 사용 가능"
   ]
  },
  {
   "cell_type": "code",
   "execution_count": 2,
   "metadata": {},
   "outputs": [
    {
     "name": "stdout",
     "output_type": "stream",
     "text": [
      "Barack Obama\n"
     ]
    }
   ],
   "source": [
    "infile = open('USPresidents.txt', 'r')\n",
    "for line in infile:\n",
    "  pass\n",
    "print(line.rstrip())  # line : for문 종료 후에도 살아있는 값\n",
    "infile.close()"
   ]
  },
  {
   "attachments": {},
   "cell_type": "markdown",
   "metadata": {},
   "source": [
    "### The break Statement\n",
    "\n",
    "  - 반복문 탈출"
   ]
  },
  {
   "cell_type": "code",
   "execution_count": 13,
   "metadata": {},
   "outputs": [
    {
     "name": "stdout",
     "output_type": "stream",
     "text": [
      "Enter QUIT to terminate entering something\n",
      "Length of the string is 18\n",
      "Length of the string is 11\n",
      "Length of the string is 4\n",
      "Done\n"
     ]
    }
   ],
   "source": [
    "print('Enter QUIT to terminate entering something')\n",
    "while True:\n",
    "  s = input('Enter something : ')\n",
    "  if s == 'QUIT':\n",
    "    break\n",
    "  print('Length of the string is', len(s))\n",
    "print('Done')"
   ]
  },
  {
   "attachments": {},
   "cell_type": "markdown",
   "metadata": {},
   "source": [
    "### The continue Statement"
   ]
  },
  {
   "cell_type": "code",
   "execution_count": 15,
   "metadata": {},
   "outputs": [
    {
     "name": "stdout",
     "output_type": "stream",
     "text": [
      "Input is of sufficient length\n",
      "Too short\n",
      "Too short\n",
      "Too short\n",
      "Too short\n",
      "Too short\n",
      "Input is of sufficient length\n"
     ]
    }
   ],
   "source": [
    "while True:\n",
    "  s = input('Enter something : ')\n",
    "  if s == 'quit':\n",
    "    break\n",
    "  if len(s) < 3:\n",
    "    print('Too short')\n",
    "    continue\n",
    "  print('Input is of sufficient length')"
   ]
  },
  {
   "cell_type": "code",
   "execution_count": 16,
   "metadata": {},
   "outputs": [
    {
     "name": "stdout",
     "output_type": "stream",
     "text": [
      "Too short\n",
      "Too short\n",
      "Input is of sufficient length\n",
      "Input is of sufficient length\n"
     ]
    }
   ],
   "source": [
    "while True:\n",
    "  s = input('Enter something : ')\n",
    "  if s == 'quit':\n",
    "    break\n",
    "  elif len(s) < 3:\n",
    "    print('Too short')\n",
    "  else:\n",
    "    print('Input is of sufficient length')"
   ]
  },
  {
   "attachments": {},
   "cell_type": "markdown",
   "metadata": {},
   "source": [
    "## Data Structures"
   ]
  },
  {
   "attachments": {},
   "cell_type": "markdown",
   "metadata": {},
   "source": [
    "### List\n",
    "\n",
    "- 모든 타입이 요소가 될 수 있음\n",
    "- 각 요소의 타입이 같지 않아도 됨\n",
    "- [ ]로 표현\n",
    "- 요소별 구분자는 ','\n",
    "- 요소값 변경 가능\n",
    "- 전체 길이 변경 가능\n",
    "- 인덱싱 가능"
   ]
  },
  {
   "cell_type": "code",
   "execution_count": 17,
   "metadata": {},
   "outputs": [
    {
     "data": {
      "text/plain": [
       "['spam', 'eggs']"
      ]
     },
     "execution_count": 17,
     "metadata": {},
     "output_type": "execute_result"
    }
   ],
   "source": [
    "team = ['Seahaks', 2014, 'CenturyLink Field']\n",
    "nums = [5, 10, 4, 5]\n",
    "words = ['spam', 'ni']\n",
    "words[1] = 'eggs'\n",
    "words"
   ]
  },
  {
   "attachments": {},
   "cell_type": "markdown",
   "metadata": {},
   "source": [
    "### Objects and Classes"
   ]
  },
  {
   "attachments": {},
   "cell_type": "markdown",
   "metadata": {},
   "source": [
    "- 객체란?\n",
    "- 클래스란?\n",
    "- 클래스와 객체의 차이\n",
    "- 클래스와 인스턴스의 차이"
   ]
  },
  {
   "cell_type": "code",
   "execution_count": 20,
   "metadata": {},
   "outputs": [
    {
     "name": "stdout",
     "output_type": "stream",
     "text": [
      "[3, 2, 4, 1]\n",
      "[1, 2, 3, 4]\n",
      "[3, 2, 4, 1]\n",
      "None\n",
      "[1, 2, 3, 4]\n"
     ]
    }
   ],
   "source": [
    "a = [3, 2, 4, 1]\n",
    "print(a)\n",
    "print(sorted(a))\n",
    "print(a)\n",
    "print(a.sort())   # sort() : 오름차순 정렬\n",
    "print(a)"
   ]
  },
  {
   "attachments": {},
   "cell_type": "markdown",
   "metadata": {},
   "source": [
    "Some methods do things without returning any value"
   ]
  },
  {
   "cell_type": "code",
   "execution_count": 26,
   "metadata": {},
   "outputs": [
    {
     "name": "stdout",
     "output_type": "stream",
     "text": [
      "I have 4 items to purchase.\n",
      "These items are: applemangocarrotbanana\n",
      "I also hame to buy rice.\n",
      "My list is now ['apple', 'mango', 'carrot', 'banana', 'rice']\n",
      "I will sort my shopping list now\n",
      "Sorted list is ['apple', 'banana', 'carrot', 'mango', 'rice']\n",
      "The first item I will buy is apple\n",
      "I bought the apple\n",
      "My shopping list is now ['banana', 'carrot', 'mango', 'rice']\n"
     ]
    }
   ],
   "source": [
    "shoplist = ['apple', 'mango', 'carrot', 'banana']\n",
    "print('I have {0} items to purchase.'.format(len(shoplist)))\n",
    "print('These items are: ', end='')\n",
    "for item in shoplist:\n",
    "  print(item, end='')\n",
    "\n",
    "print('\\nI also hame to buy rice.')\n",
    "shoplist.append('rice')\n",
    "print('My list is now', shoplist)\n",
    "\n",
    "print('I will sort my shopping list now')\n",
    "shoplist.sort()\n",
    "print('Sorted list is', shoplist)\n",
    "\n",
    "print('The first item I will buy is', shoplist[0])\n",
    "olditem = shoplist[0]\n",
    "del shoplist[0]\n",
    "print('I bought the',olditem)\n",
    "print('My shopping list is now', shoplist)"
   ]
  },
  {
   "attachments": {},
   "cell_type": "markdown",
   "metadata": {},
   "source": [
    "More list functions and methods are shown below"
   ]
  },
  {
   "cell_type": "code",
   "execution_count": 41,
   "metadata": {},
   "outputs": [
    {
     "name": "stdout",
     "output_type": "stream",
     "text": [
      "10\n",
      "4\n",
      "24\n",
      "2\n",
      "2\n",
      "['spam', 'ni']\n",
      "['ni', 'spam']\n",
      "[5, 10, 4, 5]\n",
      "[5, 10, 4, 5, 7]\n",
      "[5, 10, 4, 5, 7, 1, 2]\n",
      "[10, 4, 5, 7, 1, 2]\n"
     ]
    },
    {
     "data": {
      "text/plain": [
       "[0, 0, 0]"
      ]
     },
     "execution_count": 41,
     "metadata": {},
     "output_type": "execute_result"
    }
   ],
   "source": [
    "team = ['Seahaks', 2014, 'CenturyLink Field']\n",
    "nums = [5, 10, 4, 5]\n",
    "words = ['spam', 'ni']\n",
    "\n",
    "print(max(nums))\n",
    "print(min(nums))\n",
    "print(sum(nums))\n",
    "print(nums.count(5))\n",
    "print(nums.index(4))\n",
    "print(words)\n",
    "words.reverse()\n",
    "print(words)\n",
    "print(nums)\n",
    "nums.append(7)\n",
    "print(nums)\n",
    "nums.extend([1,2])\n",
    "print(nums)\n",
    "nums.remove(5)\n",
    "print(nums)\n",
    "del nums[1:3]\n",
    "nums\n",
    "words.insert(1,'wink')\n",
    "words\n",
    "[0]*3"
   ]
  },
  {
   "attachments": {},
   "cell_type": "markdown",
   "metadata": {},
   "source": [
    "The split method turns a single string into a list of substrings"
   ]
  },
  {
   "cell_type": "code",
   "execution_count": 42,
   "metadata": {},
   "outputs": [
    {
     "name": "stdout",
     "output_type": "stream",
     "text": [
      "['a', 'b', 'c']\n",
      "['a', 'b', 'c']\n",
      "['a', '', 'b', '', 'c']\n",
      "['a', 'b', 'c']\n",
      "['a', 'b', 'c']\n",
      "['a b c']\n"
     ]
    }
   ],
   "source": [
    "print('a,b,c'.split(','))\n",
    "print('a**b**c'.split('**'))\n",
    "print('a**b**c'.split('*'))\n",
    "print('a\\nb\\nc'.split())\n",
    "print('a b c'.split())\n",
    "print('a b c'.split(','))"
   ]
  },
  {
   "attachments": {},
   "cell_type": "markdown",
   "metadata": {},
   "source": [
    "join 구분자를 넣어서 리스트의 요소들을 str로 합치기"
   ]
  },
  {
   "cell_type": "code",
   "execution_count": 43,
   "metadata": {},
   "outputs": [
    {
     "name": "stdout",
     "output_type": "stream",
     "text": [
      "To be or not to be.\n",
      "Snap, Crackle, Pop\n"
     ]
    }
   ],
   "source": [
    "line = ['To', 'be', 'or', 'not', 'to', 'be.']\n",
    "string = ' '.join(line)\n",
    "print(string)\n",
    "krispies = ['Snap', 'Crackle', 'Pop']\n",
    "print(', '.join(krispies))"
   ]
  },
  {
   "attachments": {},
   "cell_type": "markdown",
   "metadata": {},
   "source": [
    "### Tuple : 읽기전용 리스트\n",
    "\n",
    "- 수정 불가\n",
    "- ( ) 로 선언\n",
    "- 콤마로 나열해도 튜플로 인식함\n",
    "- 그 외 내용 리스트과 동일"
   ]
  },
  {
   "cell_type": "code",
   "execution_count": 49,
   "metadata": {},
   "outputs": [
    {
     "data": {
      "text/plain": [
       "(tuple, tuple, tuple)"
      ]
     },
     "execution_count": 49,
     "metadata": {},
     "output_type": "execute_result"
    }
   ],
   "source": [
    "t1 = ('a', 'b', 'c')\n",
    "t2 = 'a', 'b', 'c'\n",
    "t3 = 1,                 # 쉼표가 붙어있기만해도 튜플\n",
    "type(t1), type(t2), type(t3)"
   ]
  },
  {
   "cell_type": "code",
   "execution_count": 53,
   "metadata": {},
   "outputs": [
    {
     "data": {
      "text/plain": [
       "'elephant'"
      ]
     },
     "execution_count": 53,
     "metadata": {},
     "output_type": "execute_result"
    }
   ],
   "source": [
    "zoo = ('python', 'elephant', 'penguin')\n",
    "new_zoo = 'monkey', 'camel', zoo\n",
    "\n",
    "len(new_zoo), new_zoo\n",
    "\n",
    "# 기존 동물원의 1번 인덱스 동물 찾기\n",
    "new_zoo[2][1]"
   ]
  },
  {
   "attachments": {},
   "cell_type": "markdown",
   "metadata": {},
   "source": [
    "list에서의 예시 확인"
   ]
  },
  {
   "cell_type": "code",
   "execution_count": 56,
   "metadata": {},
   "outputs": [
    {
     "name": "stdout",
     "output_type": "stream",
     "text": [
      "[4, 5, [1, 2, 3]]\n"
     ]
    },
    {
     "data": {
      "text/plain": [
       "2"
      ]
     },
     "execution_count": 56,
     "metadata": {},
     "output_type": "execute_result"
    }
   ],
   "source": [
    "l1 = [1,2,3]\n",
    "l2 = [4,5,l1]\n",
    "print(l2)\n",
    "l2[2][1]"
   ]
  },
  {
   "cell_type": "code",
   "execution_count": 58,
   "metadata": {},
   "outputs": [
    {
     "name": "stdout",
     "output_type": "stream",
     "text": [
      "5 6 7\n"
     ]
    }
   ],
   "source": [
    "x,y,z=5,6,7\n",
    "print(x,y,z)"
   ]
  },
  {
   "cell_type": "code",
   "execution_count": 59,
   "metadata": {},
   "outputs": [
    {
     "name": "stdout",
     "output_type": "stream",
     "text": [
      "6 5\n"
     ]
    }
   ],
   "source": [
    "x=5\n",
    "y=6\n",
    "x,y=y,x\n",
    "print(x,y)"
   ]
  },
  {
   "attachments": {},
   "cell_type": "markdown",
   "metadata": {},
   "source": [
    "### Sequence\n",
    "\n",
    "  - 멤버십테스트?\n",
    "  - 인덱싱\n",
    "  - 슬라이싱 : 시작은 포함, 끝은 제외, ':' 생략불가, 3번째 값은 step size"
   ]
  },
  {
   "cell_type": "code",
   "execution_count": 65,
   "metadata": {},
   "outputs": [
    {
     "name": "stdout",
     "output_type": "stream",
     "text": [
      "[3, 5]\n",
      "[7, 6, 5, 4, 3, 2, 1]\n",
      "suez\n"
     ]
    }
   ],
   "source": [
    "l = [1,2,3,4,5,6,7]\n",
    "print(l[2:6:2])\n",
    "print(l[::-1])\n",
    "print('zeus'[::-1])"
   ]
  },
  {
   "cell_type": "code",
   "execution_count": 67,
   "metadata": {},
   "outputs": [
    {
     "name": "stdout",
     "output_type": "stream",
     "text": [
      "The 2010 population of the Midwest was 66.9 million.\n",
      "Total 2010 population of the U.s: 308.7 million.\n"
     ]
    }
   ],
   "source": [
    "regions = [('Northeast',55.3),\n",
    "          ('Midwest', 66.9),\n",
    "          ('South', 114.6),\n",
    "          ('West', 71.9)]\n",
    "print('The 2010 population of the', regions[1][0], 'was', regions[1][1], 'million.')\n",
    "\n",
    "totalPop = regions[0][1] + regions[1][1] + regions[2][1] + regions[3][1]\n",
    "print('Total 2010 population of the U.s: {0:.1f} million.'.format(totalPop))"
   ]
  },
  {
   "cell_type": "code",
   "execution_count": 72,
   "metadata": {},
   "outputs": [
    {
     "data": {
      "text/plain": [
       "['P', 'y', 't', 'h', 'o', 'n']"
      ]
     },
     "execution_count": 72,
     "metadata": {},
     "output_type": "execute_result"
    }
   ],
   "source": [
    "list(('a','b'))\n",
    "list(\"Python\")\n",
    "\"Python\".split()\n",
    "\"P y t h o n\".split()\n",
    "\"P y t h o n\".split(' ')"
   ]
  },
  {
   "attachments": {},
   "cell_type": "markdown",
   "metadata": {},
   "source": [
    "### References(참조연산자)\n",
    "\n",
    "- mutable : change in place\n",
    "- immutable : cannot change in place(garbage collector 필요)"
   ]
  },
  {
   "cell_type": "code",
   "execution_count": 77,
   "metadata": {},
   "outputs": [
    {
     "name": "stdout",
     "output_type": "stream",
     "text": [
      "Simple Assignment\n",
      "shoplist is ['mango', 'carrot', 'banana']\n",
      "mylist is ['mango', 'carrot', 'banana']\n",
      "Copy by making a full slice\n",
      "shoplist is ['mango', 'carrot', 'banana']\n",
      "mylist is ['carrot', 'banana']\n"
     ]
    }
   ],
   "source": [
    "print('Simple Assignment')\n",
    "shoplist = ['apple', 'mango', 'carrot', 'banana']\n",
    "mylist = shoplist\n",
    "\n",
    "del mylist[0]\n",
    "print('shoplist is', shoplist)\n",
    "print('mylist is', mylist)\n",
    "# 여기서 mylist는 shoplist와 같은 객체를 가리키는 다른 이름일 뿐 복사되지 않음\n",
    "\n",
    "print('Copy by making a full slice')\n",
    "# sequence를 복사하려면 slicing을 활용해야함\n",
    "mylist = shoplist[:]\n",
    "\n",
    "del mylist[0]\n",
    "print('shoplist is', shoplist)\n",
    "print('mylist is', mylist)"
   ]
  },
  {
   "cell_type": "code",
   "execution_count": 80,
   "metadata": {},
   "outputs": [
    {
     "name": "stdout",
     "output_type": "stream",
     "text": [
      "[1, 2, 3, 4, 5]\n",
      "[1, 2, 3, 4, 5]\n",
      "[1, 2, 3, 4]\n",
      "[2, 3, 4, 5]\n",
      "[2, 3, 4, 5]\n",
      "[1, 2, 3, 4]\n",
      "[1, 2, 3, 4, 5]\n"
     ]
    }
   ],
   "source": [
    "x = [1,2,3,4]\n",
    "y = x\n",
    "z = x[:]\n",
    "\n",
    "x.append(5)\n",
    "print(x)\n",
    "print(y)\n",
    "print(z)\n",
    "\n",
    "w = y.copy()\n",
    "del y[0]\n",
    "print(x)\n",
    "print(y)\n",
    "print(z)\n",
    "print(w)"
   ]
  },
  {
   "attachments": {},
   "cell_type": "markdown",
   "metadata": {},
   "source": [
    "### More about Strings"
   ]
  },
  {
   "cell_type": "code",
   "execution_count": 84,
   "metadata": {},
   "outputs": [
    {
     "name": "stdout",
     "output_type": "stream",
     "text": [
      "Yes, the sting starts with \"Swa\"\n",
      "Yes, it contains the character \"a\"\n",
      "Yes, it contains the string \"war\"\n",
      "Brazil_*_Russia_*_India_*_China\n"
     ]
    }
   ],
   "source": [
    "name = 'Swaroop'\n",
    "\n",
    "if name.startswith('Swa'):\n",
    "  print('Yes, the sting starts with \"Swa\"')\n",
    "if 'a' in name:\n",
    "  print('Yes, it contains the character \"a\"')\n",
    "if name.find('war') != -1:\n",
    "  print('Yes, it contains the string \"war\"')\n",
    "\n",
    "delimiter = '_*_'\n",
    "mylist = ['Brazil', 'Russia', 'India', 'China']\n",
    "print(delimiter.join(mylist))"
   ]
  }
 ],
 "metadata": {
  "kernelspec": {
   "display_name": "Python 3",
   "language": "python",
   "name": "python3"
  },
  "language_info": {
   "codemirror_mode": {
    "name": "ipython",
    "version": 3
   },
   "file_extension": ".py",
   "mimetype": "text/x-python",
   "name": "python",
   "nbconvert_exporter": "python",
   "pygments_lexer": "ipython3",
   "version": "3.11.0 (main, Oct 24 2022, 18:26:48) [MSC v.1933 64 bit (AMD64)]"
  },
  "orig_nbformat": 4,
  "vscode": {
   "interpreter": {
    "hash": "c261aea317cc0286b3b3261fbba9abdec21eaa57589985bb7a274bf54d6cc0a7"
   }
  }
 },
 "nbformat": 4,
 "nbformat_minor": 2
}
