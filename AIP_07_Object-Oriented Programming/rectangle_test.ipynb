{
 "cells": [
  {
   "cell_type": "code",
   "execution_count": 5,
   "metadata": {},
   "outputs": [
    {
     "name": "stdout",
     "output_type": "stream",
     "text": [
      "Width:4\n",
      "Height:5\n"
     ]
    }
   ],
   "source": [
    "import rectangle\n",
    "\n",
    "r = rectangle.Rectangle(4,5)\n",
    "print(r)"
   ]
  },
  {
   "cell_type": "code",
   "execution_count": 8,
   "metadata": {},
   "outputs": [
    {
     "name": "stdout",
     "output_type": "stream",
     "text": [
      "Width:4\n",
      "Height:1\n"
     ]
    }
   ],
   "source": [
    "r = rectangle.Rectangle(4)\n",
    "print(r)"
   ]
  },
  {
   "cell_type": "code",
   "execution_count": 10,
   "metadata": {},
   "outputs": [
    {
     "name": "stdout",
     "output_type": "stream",
     "text": [
      "Width:1\n",
      "Height:1\n",
      "The rectangle has the following measurements:\n",
      "Width is 4\n",
      "Height is 5\n",
      "Area is 20\n",
      "Perimeter is 18\n"
     ]
    }
   ],
   "source": [
    "r = rectangle.Rectangle()\n",
    "print(r)\n",
    "\n",
    "r.setWidth(4)\n",
    "r.setHeight(5)\n",
    "\n",
    "print(\"The rectangle has the following measurements:\")\n",
    "print(\"Width is\", r.getWidth())\n",
    "print(\"Height is\", r.getHeight())\n",
    "print(\"Area is\", r.area())\n",
    "print(\"Perimeter is\", r.perimeter())"
   ]
  },
  {
   "attachments": {},
   "cell_type": "markdown",
   "metadata": {},
   "source": [
    "이름으로 접근 가능하나 비추"
   ]
  },
  {
   "cell_type": "code",
   "execution_count": 13,
   "metadata": {},
   "outputs": [
    {
     "name": "stdout",
     "output_type": "stream",
     "text": [
      "The rectangle has the following measurements:\n",
      "Width is 5\n",
      "Height is 8\n",
      "Area is 40\n",
      "Perimeter is 26\n"
     ]
    }
   ],
   "source": [
    "r._width = 5\n",
    "r._height = 8\n",
    "\n",
    "print(\"The rectangle has the following measurements:\")\n",
    "print(\"Width is\", r._width)\n",
    "print(\"Height is\", r._height)\n",
    "print(\"Area is\", r.area())\n",
    "print(\"Perimeter is\", r.perimeter())\n"
   ]
  }
 ],
 "metadata": {
  "kernelspec": {
   "display_name": "Python 3",
   "language": "python",
   "name": "python3"
  },
  "language_info": {
   "codemirror_mode": {
    "name": "ipython",
    "version": 3
   },
   "file_extension": ".py",
   "mimetype": "text/x-python",
   "name": "python",
   "nbconvert_exporter": "python",
   "pygments_lexer": "ipython3",
   "version": "3.11.0 (main, Oct 24 2022, 18:26:48) [MSC v.1933 64 bit (AMD64)]"
  },
  "orig_nbformat": 4,
  "vscode": {
   "interpreter": {
    "hash": "c261aea317cc0286b3b3261fbba9abdec21eaa57589985bb7a274bf54d6cc0a7"
   }
  }
 },
 "nbformat": 4,
 "nbformat_minor": 2
}
