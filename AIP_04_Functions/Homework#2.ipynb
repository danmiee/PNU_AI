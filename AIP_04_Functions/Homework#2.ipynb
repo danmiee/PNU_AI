{
 "cells": [
  {
   "attachments": {},
   "cell_type": "markdown",
   "metadata": {},
   "source": [
    "### Exercises 2.4"
   ]
  },
  {
   "attachments": {},
   "cell_type": "markdown",
   "metadata": {},
   "source": [
    "102. Analyze \n",
    "a Sentence Write a program  that displays  the first  and  last words of a sentence input by the  user.  Assume that the only  punctuation  is a period at the end of the sentence.\n",
    "\n",
    "Enter a sentence: Reach for the stars.  \n",
    "First word: Reach  \n",
    "Last word: stars  "
   ]
  },
  {
   "cell_type": "code",
   "execution_count": 2,
   "metadata": {},
   "outputs": [
    {
     "name": "stdout",
     "output_type": "stream",
     "text": [
      "First word: Reach\n",
      "Last word: stars\n"
     ]
    }
   ],
   "source": [
    "s = input(\"Enter a sentence\")\n",
    "print('First word:',s.split()[0])\n",
    "print('Last word:',s.split()[-1].split('.')[0])"
   ]
  },
  {
   "cell_type": "code",
   "execution_count": 3,
   "metadata": {},
   "outputs": [
    {
     "name": "stdout",
     "output_type": "stream",
     "text": [
      "First word: Reach\n",
      "Last word: stars\n"
     ]
    }
   ],
   "source": [
    "# solution\n",
    "sentence = input(\"Enter a sentence\")\n",
    "words = sentence.split()\n",
    "print('First word:',words[0])\n",
    "print('Last word:',words[-1][:-1])"
   ]
  },
  {
   "attachments": {},
   "cell_type": "markdown",
   "metadata": {},
   "source": [
    "104. Name    \n",
    "Write a program that  requests a  three-part  name  and  then  displays \n",
    "the middle name.\n",
    "\n",
    "Enter a 3-part name: Michael Andrew Fox  \n",
    "Middle name: Andrew  "
   ]
  },
  {
   "cell_type": "code",
   "execution_count": 13,
   "metadata": {},
   "outputs": [
    {
     "name": "stdout",
     "output_type": "stream",
     "text": [
      "Middle name: Andrew\n"
     ]
    }
   ],
   "source": [
    "name = input(\"Enter a 3-part name:\")\n",
    "print('Middle name:',name.split()[1])"
   ]
  },
  {
   "cell_type": "code",
   "execution_count": 4,
   "metadata": {},
   "outputs": [
    {
     "name": "stdout",
     "output_type": "stream",
     "text": [
      "Middle name:  Andrew\n"
     ]
    }
   ],
   "source": [
    "name = input(\"Enter a 3-part name:\")\n",
    "name = name.split()\n",
    "print('Middle name: ',name[1])"
   ]
  },
  {
   "attachments": {},
   "cell_type": "markdown",
   "metadata": {},
   "source": [
    "### Exercises 3.4"
   ]
  },
  {
   "attachments": {},
   "cell_type": "markdown",
   "metadata": {},
   "source": [
    "66. Median   \n",
    "The median of an ordered  set  of measurements  is a  number \n",
    "separating the lower half  from the upper  half.  If the number  of measurements \n",
    "is odd,  the median is the middle  measurement. If  the number  of measurements \n",
    "is even, the median is the  average  of the two middle  measurements.  Write a \n",
    "program that requests a number n and  a set of n measurements (not necessarily ordered)  as input and then displays  the median of the measurements.\n",
    "\n",
    "How many numbers do you want to enter? 4  \n",
    "Enter a number: 9  \n",
    "Enter a number: 3  \n",
    "Enter a number: 6  \n",
    "Enter a number: 5  \n",
    "Median: 5.5  "
   ]
  },
  {
   "cell_type": "code",
   "execution_count": 11,
   "metadata": {},
   "outputs": [
    {
     "name": "stdout",
     "output_type": "stream",
     "text": [
      "Median: 5.5\n"
     ]
    }
   ],
   "source": [
    "# solution\n",
    "num = int(input('How many numbers do you want to enter?'))\n",
    "\n",
    "numbers = []\n",
    "for k in range(num):\n",
    "  v = eval(input('Enter a number:'))\n",
    "  numbers.append(v)\n",
    "\n",
    "# 입력순서가 랜덤이므로 정렬 필요\n",
    "numbers.sort()\n",
    "\n",
    "l = len(numbers)\n",
    "if l % 2 == 0:\n",
    "  # 짝수\n",
    "  v_med = (numbers[l // 2 - 1] + numbers[l // 2]) / 2\n",
    "else:\n",
    "  # 홀수\n",
    "  v_med = numbers[l//2]\n",
    "print('Median:',v_med)"
   ]
  },
  {
   "attachments": {},
   "cell_type": "markdown",
   "metadata": {},
   "source": [
    "74. A Puzzle   \n",
    "The following puzzle is  known  as The Big  Cross-Out Swindle. \n",
    "“Beginning with the word  ‘NAISNIENLGELTETWEORRSD,’  cross  out nine \n",
    "letters in such a  way that  the remaining letters  spell a single  word”.  Write a program  that creates variables named  startingWord, crossedOutLetters,  and remainingLetters. The program should  assign to  startingWord the string  given in the puzzle, assign  to crossedOutLetters  a list containing every other  letter  of startingWord beginning with the initial  letter  N, and  assign to  remainingLetters a  list containing every other letter of startingWord beginning with  the second letter, A. The  program should then  display the values  of the three variables.\n",
    "\n",
    "Starting word: NAISNIENLGELTETWEORRSD  \n",
    "Crossed out letters: N I N E L E T T E R S  \n",
    "Remaining letters: A S I N G L E W O R D  "
   ]
  },
  {
   "cell_type": "code",
   "execution_count": 24,
   "metadata": {},
   "outputs": [
    {
     "name": "stdout",
     "output_type": "stream",
     "text": [
      "Crossed out letters: N I N E L E T T E R S\n",
      "Remaining letters: A S I N G L E W O R D\n"
     ]
    }
   ],
   "source": [
    "word = input(\"Starting word\")\n",
    "\n",
    "crossed = ''; remaining=''\n",
    "\n",
    "for i in range(len(word)):\n",
    "  if i % 2 == 0:\n",
    "    crossed += list(word)[i]\n",
    "  else:\n",
    "    remaining += list(word)[i]\n",
    "\n",
    "print('Crossed out letters:',' '.join(crossed))\n",
    "print('Remaining letters:',' '.join(remaining))"
   ]
  },
  {
   "cell_type": "code",
   "execution_count": 53,
   "metadata": {},
   "outputs": [
    {
     "name": "stdout",
     "output_type": "stream",
     "text": [
      "Crossed out letters: N I N E L E T T E R S\n",
      "Remaining letters: A S I N G L E W O R D\n"
     ]
    }
   ],
   "source": [
    "# solution1 (고수)\n",
    "starting_word = \"NAISNIENLGELTETWEORRSD\"\n",
    "crossed_out = starting_word[::2]\n",
    "remaining = starting_word[1::2]\n",
    "\n",
    "print('Crossed out letters:',' '.join(crossed_out))\n",
    "print('Remaining letters:',' '.join(remaining))"
   ]
  },
  {
   "cell_type": "code",
   "execution_count": 56,
   "metadata": {},
   "outputs": [
    {
     "name": "stdout",
     "output_type": "stream",
     "text": [
      "Crossed out letters: N I N E L E T T E R S\n",
      "Remaining letters: A S I N G L E W O R D\n"
     ]
    }
   ],
   "source": [
    "# solution2 (초보)\n",
    "starting_word = \"NAISNIENLGELTETWEORRSD\"\n",
    "\n",
    "crossed_out = []\n",
    "remaining = []\n",
    "length = len(starting_word)\n",
    "\n",
    "for i in range(length):\n",
    "  if i%2==0:\n",
    "    crossed_out.append(starting_word[i])\n",
    "  else:\n",
    "    remaining.append(starting_word[i])\n",
    "\n",
    "print('Crossed out letters:',' '.join(crossed_out))\n",
    "print('Remaining letters:',' '.join(remaining))"
   ]
  },
  {
   "attachments": {},
   "cell_type": "markdown",
   "metadata": {},
   "source": [
    "78. Special Number   \n",
    "Write a program to  find the  four-digit number,  call  it \n",
    "abcd, whose digits are  reversed  when the number  is multiplied  by  4. That is, \n",
    "4 ´ abcd = dcba.\n",
    "\n",
    "Since 4 times 2178 is 8712,  \n",
    "the special number is 2178.  "
   ]
  },
  {
   "cell_type": "code",
   "execution_count": 60,
   "metadata": {},
   "outputs": [
    {
     "name": "stdout",
     "output_type": "stream",
     "text": [
      "Since 4 times 2178 is 8712, the special number is2178\n"
     ]
    }
   ],
   "source": [
    "for i in range(1000,10000):\n",
    "  if 4*i == int(str(i)[::-1]):\n",
    "    print('Since 4 times {} is {}, the special number is{}'.format(i,4*i,i))"
   ]
  },
  {
   "cell_type": "code",
   "execution_count": 61,
   "metadata": {},
   "outputs": [
    {
     "name": "stdout",
     "output_type": "stream",
     "text": [
      "Since 4 times 2178 is 8712, the special number is 2178\n"
     ]
    }
   ],
   "source": [
    "# solution\n",
    "def special_number(num):\n",
    "  num_rev = list(str(num))\n",
    "  num_rev.reverse()\n",
    "  num_rev = int(''.join(num_rev))\n",
    "\n",
    "  if 4*num == num_rev:\n",
    "    return True\n",
    "  else:\n",
    "    return False\n",
    "\n",
    "for i in range(1000,10000):\n",
    "  if special_number(i):\n",
    "    print('Since 4 times {} is {}, the special number is {}'.format(i,i*4,i))"
   ]
  },
  {
   "attachments": {},
   "cell_type": "markdown",
   "metadata": {},
   "source": [
    "26. Count Function   \n",
    "Suppose the count  function for  a  string  didn’t  exist.  Define a  function that returns the number of non-overlapping  occurrences  of a substring in a string."
   ]
  },
  {
   "cell_type": "code",
   "execution_count": 69,
   "metadata": {},
   "outputs": [
    {
     "name": "stdout",
     "output_type": "stream",
     "text": [
      "19\n"
     ]
    }
   ],
   "source": [
    "# solution\n",
    "def my_count(str_orig,str_sub):\n",
    "  l_orig = len(str_orig)\n",
    "  l_sub = len(str_sub)\n",
    "  \n",
    "  idx = 0\n",
    "  cnt = 0\n",
    "  while idx <= l_orig - l_sub:\n",
    "    p_orig = str_orig[idx:idx+l_sub]\n",
    "    \n",
    "    if l_sub == 0:\n",
    "      return l_orig\n",
    "    \n",
    "    if p_orig == str_sub:\n",
    "      cnt += 1\n",
    "      idx += l_sub\n",
    "    else:\n",
    "      idx += 1\n",
    "  return cnt\n",
    "\n",
    "print(my_count('abcdeffeeffeeeeffee',''))"
   ]
  },
  {
   "attachments": {},
   "cell_type": "markdown",
   "metadata": {},
   "source": [
    "30. Pay  Raise   \n",
    "Write a  pay-raise program  that  requests  a person’s first  name, last name, and current annual salary,  and then  displays  the person’s  salary for next year. People  earning less than $40,000  will receive a 5% raise, and  those earning $40,000 or more will  receive a  raise of $2,000 plus  2% of the amount over $40,000. Use functions  for input  and  output, and  a function  to  calculate the new salary.\n",
    "\n",
    "Enter first name: John  \n",
    "Enter last name: Doe  \n",
    "Enter current salary: 48000  \n",
    "New salary for John Doe: $50,160.00  "
   ]
  },
  {
   "cell_type": "code",
   "execution_count": 50,
   "metadata": {},
   "outputs": [
    {
     "name": "stdout",
     "output_type": "stream",
     "text": [
      "New salary for John Doe: $50,160.00\n"
     ]
    }
   ],
   "source": [
    "fName = input('Enter first name:')\n",
    "lName = input('Enter last name:')\n",
    "salary = eval(input('Enter current salary:'))\n",
    "newSal = 0\n",
    "\n",
    "if salary < 40000:\n",
    "  newSal = salary + (salary*0.05)\n",
    "else:\n",
    "  newSal = salary + 2000 + ((salary-40000)*0.02)\n",
    "\n",
    "print('New salary for {0} {1}: ${2:,.2f}'.format(fName,lName,newSal))"
   ]
  },
  {
   "cell_type": "code",
   "execution_count": 70,
   "metadata": {},
   "outputs": [
    {
     "name": "stdout",
     "output_type": "stream",
     "text": [
      "New salary for Jinsun Park: $50,160.00\n"
     ]
    }
   ],
   "source": [
    "# solution\n",
    "fName = input('Enter first name:')\n",
    "lName = input('Enter last name:')\n",
    "salary = eval(input('Enter current salary:'))\n",
    "\n",
    "if salary < 40000:\n",
    "  new_salary = salary * 1.05\n",
    "else:\n",
    "  new_salary = salary + 2000 + ((salary-40000)*0.02)\n",
    "  \n",
    "print('New salary for {} {}: ${:,.2f}'.format(fName,lName,new_salary))"
   ]
  }
 ],
 "metadata": {
  "kernelspec": {
   "display_name": "base",
   "language": "python",
   "name": "python3"
  },
  "language_info": {
   "codemirror_mode": {
    "name": "ipython",
    "version": 3
   },
   "file_extension": ".py",
   "mimetype": "text/x-python",
   "name": "python",
   "nbconvert_exporter": "python",
   "pygments_lexer": "ipython3",
   "version": "3.9.13"
  },
  "orig_nbformat": 4,
  "vscode": {
   "interpreter": {
    "hash": "ad2bdc8ecc057115af97d19610ffacc2b4e99fae6737bb82f5d7fb13d2f2c186"
   }
  }
 },
 "nbformat": 4,
 "nbformat_minor": 2
}
