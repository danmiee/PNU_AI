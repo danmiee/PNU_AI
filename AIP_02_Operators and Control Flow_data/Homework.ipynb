{
 "cells": [
  {
   "attachments": {},
   "cell_type": "markdown",
   "metadata": {},
   "source": [
    "Exercises 2.2\n",
    "\n",
    "110. Word Replacement  \n",
    "Write a program that requests a sentence, a word in the sentence, and another word and then displays the sentence  with  the first word replaced by the second.  \n",
    "Do not use the format  method.  \n",
    "\n",
    "Enter a sentence: What you don't know won't hurt you.  \n",
    "Enter word to replace: know  \n",
    "Enter replacement word: owe  \n",
    "What you don't owe won't hurt you.  "
   ]
  },
  {
   "cell_type": "code",
   "execution_count": null,
   "metadata": {},
   "outputs": [],
   "source": [
    "sentence = input(\"Enter a sentence\")\n",
    "word = input(\"Enter word to replace\")\n",
    "r_word = input(\"Enter replacement word\")\n",
    "\n",
    "sentence.replace(word,r_word)"
   ]
  },
  {
   "cell_type": "code",
   "execution_count": null,
   "metadata": {},
   "outputs": [],
   "source": [
    "#solution\n",
    "\n",
    "str_input = input(\"Enter a sentence\")\n",
    "word1 = input(\"Enter word to replace\")\n",
    "word2 = input(\"Enter replacement word\")\n",
    "str_output = str_input.replace(word1,word2)"
   ]
  },
  {
   "cell_type": "code",
   "execution_count": null,
   "metadata": {},
   "outputs": [],
   "source": [
    "print(str_output)\n",
    "print(str_input)"
   ]
  },
  {
   "attachments": {},
   "cell_type": "markdown",
   "metadata": {},
   "source": [
    "Exercises 2.3\n",
    "\n",
    "58. Present Value  \n",
    "The present value of f dollars at interest rate r% compounded  \n",
    "annually for n years is the amount of money that must be invested now in  \n",
    "order to grow to f  dollars (called the future  value) in  n years  where  the  \n",
    "interest rate is r% per year. The formula for present  value is  \n",
    "\n",
    "  persent value = f / (1+r/100)**n  \n",
    "\n",
    "Calculate the present  value of an investment  after the  user  enters  the future  \n",
    "value,  interest rate,  and number  of years. The  following figure  shows that at  \n",
    "4% interest per year, $7,903.15 must  be invested  now in order  to  have $10,000 after 6 years.\n",
    "The program should  use the format  method  to display the outputs.\n",
    "\n",
    "Enter future value: 10000  \n",
    "Enter interest rate (as %): 4  \n",
    "Enter number of years: 6  \n",
    "Present value: $7,903.15  "
   ]
  },
  {
   "cell_type": "code",
   "execution_count": null,
   "metadata": {},
   "outputs": [],
   "source": [
    "f = int(input(\"Enter future value\"))\n",
    "r = int(input(\"Enter interest rate (as %)\"))\n",
    "n = int(input(\"Enter number of years\"))\n",
    "PresentValue = f / (1+r/100)**n\n",
    "print(\"Present value: ${0:,.2f}\".format(PresentValue))"
   ]
  },
  {
   "cell_type": "code",
   "execution_count": null,
   "metadata": {},
   "outputs": [],
   "source": [
    "# solution\n",
    "f = eval(input(\"Enter future value\"))\n",
    "r = eval(input(\"Enter interest rate (as %)\"))\n",
    "n = eval(input(\"Enter number of years\"))\n",
    "\n",
    "P = f / (1 + r / 100) ** n\n",
    "\n",
    "print(\"Present value: ${0:,.2f}\".format(P))"
   ]
  },
  {
   "attachments": {},
   "cell_type": "markdown",
   "metadata": {},
   "source": [
    "Exercises 3.2\n",
    "\n",
    "32. Pig Latin   \n",
    "Write a  program  that requests a word  (in  lowercase  letters)  as  \n",
    "input and translates the word into  Pig Latin.  The rules  for translating a  word  \n",
    "into Pig Latin are  as follows:  \n",
    "(a) If the  word begins with  a group  of consonants,  move them to  the end  of  \n",
    "the word and add ay. For  instance, chip becomes ipchay.  \n",
    "(b) If the word begins with  a  vowel, add  way to  the end  of the  word. For  \n",
    "instance, else  becomes elseway.  \n",
    "\n",
    "Enter word to translate: chip  \n",
    "The word in Pig Latin is ipchay."
   ]
  },
  {
   "cell_type": "code",
   "execution_count": null,
   "metadata": {},
   "outputs": [],
   "source": [
    "word = input(\"Enter word to translate\")\n",
    "vowel = ['a','e','i','o','u']\n",
    "idx = []\n",
    "if word[0] in vowel:\n",
    "  word = word + 'way'\n",
    "else:\n",
    "  for i in vowel:\n",
    "    x = word.find(i)\n",
    "    if x!=-1:\n",
    "      idx.append(word.find(i))\n",
    "  word = word[min(idx):] + word[0:min(idx)] + 'ay'\n",
    "print(word)"
   ]
  },
  {
   "cell_type": "code",
   "execution_count": null,
   "metadata": {},
   "outputs": [],
   "source": [
    "# solution\n",
    "word = input(\"Enter word to translate: \")\n",
    "\n",
    "if word[0] in 'aeiou':\n",
    "  # 모음으로 시작할 때 실행\n",
    "  print(word + 'way')\n",
    "else:\n",
    "  # 자음으로 시작할 때 실행\n",
    "  idx = 0\n",
    "  while True:\n",
    "    # Out of index 방지 - Sort-Circuit Revaluation\n",
    "    if len(word)==idx or word[idx] in 'aeiou':\n",
    "      break\n",
    "    else:\n",
    "      idx += 1\n",
    "  print(idx)\n",
    "  print(word[idx:],word[0:idx],'ay',sep='')"
   ]
  },
  {
   "attachments": {},
   "cell_type": "markdown",
   "metadata": {},
   "source": [
    "Exercises 3.3\n",
    "\n",
    "16. Bouncing Ball    \n",
    "The coefficient  of restitution  of a ball,  \n",
    "a number  between  0 and 1, specifies how much energy is  conserved  \n",
    "when the ball hits  a  rigid surface. \n",
    "A coefficient of .9, for  instance, means a bouncing  ball  \n",
    "will rise  to 90% of its previous height after  each bounce.  \n",
    "Write a  program  \n",
    "to input  a coefficient of restitution and an initial  height in  meters,  \n",
    "and  report  how many times a ball bounces  \n",
    "when dropped  from its  initial height before  it rises to  a height of less than  10 centimeters.  \n",
    "Also report  the total  distance traveled by the ball before this point.  \n",
    "The coefficients  of restitution  of a tennis  ball, basketball, super ball, and softball  \n",
    "are .7,  .75, .9, and  .3,  respectively.\n",
    "\n",
    "Enter coefficient of restitution: .7  \n",
    "Enter initial height in meters: 8  \n",
    "Number of bounces: 13  \n",
    "Meters traveled: 44.82  "
   ]
  },
  {
   "cell_type": "code",
   "execution_count": null,
   "metadata": {},
   "outputs": [],
   "source": [
    "c = float(input(\"Enter coefficient of restitution\"))\n",
    "h = int(input(\"Enter initial height in meters\"))\n",
    "cnt = 0\n",
    "length = h\n",
    "\n",
    "while h > 0.1:\n",
    "  h = h * c\n",
    "  cnt += 1\n",
    "  if h > 0.1:\n",
    "    length += 2 * h\n",
    "  else:\n",
    "    break\n",
    "  \n",
    "print(\"Number of bounces: \",cnt)\n",
    "print(\"Meters traveled: \",'{0:.2f}'.format(length))"
   ]
  },
  {
   "cell_type": "code",
   "execution_count": 105,
   "metadata": {},
   "outputs": [
    {
     "name": "stdout",
     "output_type": "stream",
     "text": [
      "Number of bounces: 13\n",
      "Meters traveled: 44.82\n"
     ]
    }
   ],
   "source": [
    "# solution\n",
    "r = eval(input(\"Enter coefficient of restitution\"))\n",
    "h = eval(input(\"Enter initial height in meters\"))\n",
    "\n",
    "# 처음 h에서 떨어졌을 때\n",
    "d = h\n",
    "count = 1\n",
    "\n",
    "# 그 이후는 왕복한 거리를 고려해야 함\n",
    "h *= r\n",
    "while h >= 0.1:\n",
    "  d += 2*h\n",
    "  count += 1\n",
    "  h *= r\n",
    "  \n",
    "print(\"Number of bounces:\",count)\n",
    "print(\"Meters traveled: {:.2f}\".format(d))"
   ]
  },
  {
   "attachments": {},
   "cell_type": "markdown",
   "metadata": {},
   "source": [
    "Exercises 3.4\n",
    "\n",
    "82. Digit Sum \n",
    "Write a program to  calculate the total  sum  of  the digits in  the integers from 1 to a million.\n",
    "\n",
    "The sum of the digits in the numbers \n",
    "from 1 to one million is 27,000,001.\n",
    "\n",
    "숫자 안에 있는 자리수를 더하기"
   ]
  },
  {
   "cell_type": "code",
   "execution_count": 113,
   "metadata": {},
   "outputs": [
    {
     "name": "stdout",
     "output_type": "stream",
     "text": [
      "Sum: 27,000,001\n"
     ]
    }
   ],
   "source": [
    "sum = 0\n",
    "for x in range(1,1000001):\n",
    "  # eval이 번역하는 시간이 필요하기 때문에 느림\n",
    "  sum += eval('+'.join(str(x)))\n",
    "print('Sum: {:,}'.format(sum))"
   ]
  },
  {
   "cell_type": "code",
   "execution_count": 116,
   "metadata": {},
   "outputs": [
    {
     "name": "stdout",
     "output_type": "stream",
     "text": [
      "12345\n",
      "1+2+3+4+5\n",
      "15\n"
     ]
    }
   ],
   "source": [
    "val = str(12345)\n",
    "print(val)\n",
    "print('+'.join(val))\n",
    "print(eval('+'.join(val)))"
   ]
  },
  {
   "cell_type": "code",
   "execution_count": 107,
   "metadata": {},
   "outputs": [
    {
     "name": "stdout",
     "output_type": "stream",
     "text": [
      "Sum: 27,000,001\n"
     ]
    }
   ],
   "source": [
    "#solution1\n",
    "s = 0\n",
    "for i in range(1,1000001):\n",
    "  while i>0:\n",
    "    s += i % 10\n",
    "    i = i // 10\n",
    "print('Sum: {:,}'.format(s))"
   ]
  },
  {
   "cell_type": "code",
   "execution_count": 112,
   "metadata": {},
   "outputs": [
    {
     "name": "stdout",
     "output_type": "stream",
     "text": [
      "Sum: 27,000,001\n"
     ]
    }
   ],
   "source": [
    "#solution2\n",
    "s = 0\n",
    "for i in range(1,1000001):\n",
    "  # 정수를 문자열로 변환\n",
    "  val = str(i)\n",
    "  for c in val:\n",
    "    # 문자열이 들어있는 각 자리수를 숫자로 변환하여 더함\n",
    "    s += int(c)\n",
    "print('Sum: {:,}'.format(s))"
   ]
  }
 ],
 "metadata": {
  "kernelspec": {
   "display_name": "Python 3",
   "language": "python",
   "name": "python3"
  },
  "language_info": {
   "codemirror_mode": {
    "name": "ipython",
    "version": 3
   },
   "file_extension": ".py",
   "mimetype": "text/x-python",
   "name": "python",
   "nbconvert_exporter": "python",
   "pygments_lexer": "ipython3",
   "version": "3.11.0 (main, Oct 24 2022, 18:26:48) [MSC v.1933 64 bit (AMD64)]"
  },
  "orig_nbformat": 4,
  "vscode": {
   "interpreter": {
    "hash": "c261aea317cc0286b3b3261fbba9abdec21eaa57589985bb7a274bf54d6cc0a7"
   }
  }
 },
 "nbformat": 4,
 "nbformat_minor": 2
}
