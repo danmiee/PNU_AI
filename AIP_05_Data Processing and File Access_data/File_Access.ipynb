{
 "cells": [
  {
   "attachments": {},
   "cell_type": "markdown",
   "metadata": {},
   "source": [
    "### Reading Text Files"
   ]
  },
  {
   "cell_type": "code",
   "execution_count": 1,
   "metadata": {},
   "outputs": [
    {
     "name": "stdout",
     "output_type": "stream",
     "text": [
      "George Washington\n",
      "John Adams\n",
      "Thomas Jefferson\n",
      "\n",
      "['George Washington', 'John Adams', 'Thomas Jefferson']\n",
      "\n",
      "George Washington\n",
      "John Adams\n",
      "Thomas Jefferson\n"
     ]
    }
   ],
   "source": [
    "def main():\n",
    "  file = 'FirstPresidents.txt'\n",
    "  displayWithForLoop(file)\n",
    "  print()\n",
    "  displayWithListComprehension(file)\n",
    "  print()\n",
    "  displayWithReadLine(file)\n",
    "\n",
    "def displayWithForLoop(file):\n",
    "  infile = open(file, 'r')\n",
    "  for line in infile:\n",
    "    print(line.rstrip())\n",
    "  infile.close()\n",
    "\n",
    "def displayWithListComprehension(file):\n",
    "  infile = open(file, 'r')\n",
    "  listPres = [line.rstrip() for line in infile]\n",
    "  infile.close()\n",
    "  print(listPres)\n",
    "\n",
    "def displayWithReadLine(file):\n",
    "  infile = open(file,'r')\n",
    "  line = infile.readline()\n",
    "  while line != \"\":\n",
    "    print(line.rstrip())\n",
    "    line=infile.readline()\n",
    "  infile.close()\n",
    "\n",
    "main()"
   ]
  },
  {
   "attachments": {},
   "cell_type": "markdown",
   "metadata": {},
   "source": [
    "### Creating Text Files\n",
    "- 'w' 모드\n",
    "  - 없는 파일 : 새로 생성\n",
    "  - 있는 파일 : 열어서 수정\n",
    "- writelines() : list로 작성\n",
    "- write() : value로 작성"
   ]
  },
  {
   "attachments": {},
   "cell_type": "markdown",
   "metadata": {},
   "source": [
    "write / writelines"
   ]
  },
  {
   "cell_type": "code",
   "execution_count": 3,
   "metadata": {},
   "outputs": [],
   "source": [
    "def main():\n",
    "  L = [\"George Washington\", 'John Adams', 'Thomas Jefferson']\n",
    "  outfile = open(\"FirstPresidents2.txt\",\"w\")\n",
    "  createWithWrite(L, outfile)\n",
    "  outfile = open(\"FirstPresidents3.txt\",\"w\")\n",
    "  createWithWriteLines(L, outfile)\n",
    "  \n",
    "def createWithWrite(L, outfile):\n",
    "  for i in range(len(L)):\n",
    "    outfile.write(L[i] + \"\\n\")\n",
    "  outfile.close()\n",
    "  \n",
    "def createWithWriteLines(L, outfile):\n",
    "  for i in range(len(L)):\n",
    "    L[i] = L[i] + \"\\n\"\n",
    "  outfile.writelines(L)\n",
    "  outfile.close()\n",
    "\n",
    "main()"
   ]
  },
  {
   "attachments": {},
   "cell_type": "markdown",
   "metadata": {},
   "source": [
    "States.txt 파일 내용 정렬하여 StatesAlpha.txt 생성"
   ]
  },
  {
   "cell_type": "markdown",
   "metadata": {},
   "source": [
    "USPres.txt(대통령), VPres.txt(부통령) 교집합 파일(Both.txt) 생성"
   ]
  }
 ],
 "metadata": {
  "kernelspec": {
   "display_name": "Python 3",
   "language": "python",
   "name": "python3"
  },
  "language_info": {
   "codemirror_mode": {
    "name": "ipython",
    "version": 3
   },
   "file_extension": ".py",
   "mimetype": "text/x-python",
   "name": "python",
   "nbconvert_exporter": "python",
   "pygments_lexer": "ipython3",
   "version": "3.11.0"
  },
  "orig_nbformat": 4,
  "vscode": {
   "interpreter": {
    "hash": "c261aea317cc0286b3b3261fbba9abdec21eaa57589985bb7a274bf54d6cc0a7"
   }
  }
 },
 "nbformat": 4,
 "nbformat_minor": 2
}
