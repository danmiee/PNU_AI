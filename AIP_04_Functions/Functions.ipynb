{
 "cells": [
  {
   "attachments": {},
   "cell_type": "markdown",
   "metadata": {},
   "source": [
    "### Function Definition\n",
    "\n",
    "- 함수 정의 form  \n",
    "  def functionName(par1, par2,...):  \n",
    "    indented block of statements  \n",
    "    return expression  \n",
    "\n",
    "- doc string(\"\"\")으로 어떤 내용인지 기록 필요\n",
    "- 모든 함수는 return None을 갖고있음"
   ]
  },
  {
   "cell_type": "code",
   "execution_count": 7,
   "metadata": {},
   "outputs": [],
   "source": [
    "def print_max(a, b):\n",
    "  '''\n",
    "  이 함수는 print_max라는 이름의 함수이다.\n",
    "  2개의 매개변수를 받아서 비교하고 최댓값을 알려줌\n",
    "  같으면 같다고 알려줌\n",
    "  '''\n",
    "  if a>b:\n",
    "    print(a, 'is maximum')\n",
    "  elif a==b:\n",
    "    print(a, 'is equal to', b)\n",
    "  else:\n",
    "    print(b, 'is maximum')"
   ]
  },
  {
   "cell_type": "code",
   "execution_count": 8,
   "metadata": {},
   "outputs": [
    {
     "name": "stdout",
     "output_type": "stream",
     "text": [
      "Help on function print_max in module __main__:\n",
      "\n",
      "print_max(a, b)\n",
      "    이 함수는 print_max라는 이름의 함수이다.\n",
      "    2개의 매개변수를 받아서 비교하고 최댓값을 알려줌\n",
      "    같으면 같다고 알려줌\n",
      "\n"
     ]
    },
    {
     "data": {
      "text/plain": [
       "'\\n  이 함수는 print_max라는 이름의 함수이다.\\n  2개의 매개변수를 받아서 비교하고 최댓값을 알려줌\\n  같으면 같다고 알려줌\\n  '"
      ]
     },
     "execution_count": 8,
     "metadata": {},
     "output_type": "execute_result"
    }
   ],
   "source": [
    "help(print_max)\n",
    "print_max.__doc__"
   ]
  },
  {
   "cell_type": "code",
   "execution_count": 9,
   "metadata": {},
   "outputs": [
    {
     "name": "stdout",
     "output_type": "stream",
     "text": [
      "4 is maximum\n",
      "7 is maximum\n"
     ]
    }
   ],
   "source": [
    "print_max(3,4)\n",
    "\n",
    "x=5\n",
    "y=7\n",
    "print_max(x,y)"
   ]
  },
  {
   "cell_type": "code",
   "execution_count": 10,
   "metadata": {},
   "outputs": [],
   "source": [
    "def maximum(x,y):\n",
    "  if x>y:\n",
    "    return x\n",
    "  elif x==y:\n",
    "    return 'The numbers are equal'\n",
    "  else:\n",
    "    return y"
   ]
  },
  {
   "cell_type": "code",
   "execution_count": 11,
   "metadata": {},
   "outputs": [
    {
     "name": "stdout",
     "output_type": "stream",
     "text": [
      "3\n",
      "The numbers are equal\n"
     ]
    }
   ],
   "source": [
    "print(maximum(2,3))\n",
    "print(maximum(5,5))"
   ]
  },
  {
   "cell_type": "code",
   "execution_count": 13,
   "metadata": {},
   "outputs": [
    {
     "name": "stdout",
     "output_type": "stream",
     "text": [
      "None\n",
      "None\n"
     ]
    }
   ],
   "source": [
    "def f():\n",
    "  return\n",
    "\n",
    "def g():\n",
    "  a=2\n",
    "  return\n",
    "\n",
    "print(f())\n",
    "print(g())"
   ]
  },
  {
   "attachments": {},
   "cell_type": "markdown",
   "metadata": {},
   "source": [
    "### Scope of Variables"
   ]
  },
  {
   "attachments": {},
   "cell_type": "markdown",
   "metadata": {},
   "source": [
    "Local variable(지역변수)\n",
    "  + 같은 범위 내에서만 접근 가능한 변수\n",
    "  + 해당 범위가 종료되면 사라짐\n",
    "  + ex : 함수 내에서 만든 변수"
   ]
  },
  {
   "attachments": {},
   "cell_type": "markdown",
   "metadata": {},
   "source": [
    "Global variable(전역변수)\n",
    "  + 프로그램 전체에서 접근 가능한 변수\n",
    "  + 프로그램 최상단에 선언"
   ]
  },
  {
   "cell_type": "code",
   "execution_count": 14,
   "metadata": {},
   "outputs": [
    {
     "name": "stdout",
     "output_type": "stream",
     "text": [
      "x is 50\n",
      "Changed local x to 2\n",
      "x is still 50\n"
     ]
    }
   ],
   "source": [
    "x = 50\n",
    "\n",
    "def func(x):\n",
    "  print('x is', x)\n",
    "  x = 2\n",
    "  print('Changed local x to', x)\n",
    "\n",
    "func(x)\n",
    "print('x is still', x)"
   ]
  },
  {
   "cell_type": "code",
   "execution_count": 15,
   "metadata": {},
   "outputs": [
    {
     "name": "stdout",
     "output_type": "stream",
     "text": [
      "2: function main\n",
      "3: function trivial\n",
      "2: function main\n"
     ]
    }
   ],
   "source": [
    "def main():\n",
    "  x = 2\n",
    "  print(str(x) + \": function main\")\n",
    "  trivial()\n",
    "  print(str(x) + \": function main\")\n",
    "  \n",
    "def trivial():\n",
    "  x=3\n",
    "  print(str(x) + \": function trivial\")\n",
    "  \n",
    "main()"
   ]
  },
  {
   "attachments": {},
   "cell_type": "markdown",
   "metadata": {},
   "source": [
    "명시적으로 global을 기재하면 함수 내에서도 전역변수 변경 가능"
   ]
  },
  {
   "cell_type": "code",
   "execution_count": 16,
   "metadata": {},
   "outputs": [
    {
     "name": "stdout",
     "output_type": "stream",
     "text": [
      "x is 50\n",
      "Changed global x to 2\n",
      "Value of x is 2\n"
     ]
    }
   ],
   "source": [
    "x = 50\n",
    "\n",
    "def main():\n",
    "  func()\n",
    "  print('Value of x is', x)\n",
    "  \n",
    "def func():\n",
    "  global x\n",
    "  print('x is', x)\n",
    "  x = 2\n",
    "  print('Changed global x to', x)\n",
    "  \n",
    "main()"
   ]
  },
  {
   "attachments": {},
   "cell_type": "markdown",
   "metadata": {},
   "source": [
    "Named constant : 대문자와 under scope로 네이밍\n",
    "  - 여러번 반복적으로 사용하는 상수에 이름 붙이기\n",
    "  - maintenance 용이"
   ]
  },
  {
   "cell_type": "code",
   "execution_count": 22,
   "metadata": {},
   "outputs": [
    {
     "name": "stdout",
     "output_type": "stream",
     "text": [
      "3.141592 12.566368 28.274328\n"
     ]
    }
   ],
   "source": [
    "PI = 3.141592\n",
    "\n",
    "r1 = 1\n",
    "r2 = 2\n",
    "r3 = 3\n",
    "\n",
    "area1 = PI*(r1**2)\n",
    "area2 = PI*(r2**2)\n",
    "area3 = PI*(r3**2)\n",
    "\n",
    "print(area1, area2, area3)"
   ]
  },
  {
   "attachments": {},
   "cell_type": "markdown",
   "metadata": {},
   "source": [
    "More Examples"
   ]
  },
  {
   "cell_type": "code",
   "execution_count": 7,
   "metadata": {},
   "outputs": [
    {
     "name": "stdout",
     "output_type": "stream",
     "text": [
      "First name: Franklin\n"
     ]
    }
   ],
   "source": [
    "def main():\n",
    "  fullName = input(\"Enter a person's full name: \")\n",
    "  print(\"First name:\", firstName(fullName))\n",
    "  \n",
    "def firstName(fullName):\n",
    "  firstSpace = fullName.index(\" \")\n",
    "  givenName = fullName[:firstSpace]\n",
    "  return givenName\n",
    "\n",
    "main()"
   ]
  },
  {
   "cell_type": "code",
   "execution_count": 5,
   "metadata": {},
   "outputs": [
    {
     "name": "stdout",
     "output_type": "stream",
     "text": [
      "Earnings: $1,163.75\n"
     ]
    }
   ],
   "source": [
    "def main():\n",
    "  hourlyWage = float(input(\"Enter the hourly wage:\"))\n",
    "  hoursWorked = int(input(\"Enter # hours worked:\"))\n",
    "  earnings = pay(hourlyWage, hoursWorked)\n",
    "  print(\"Earnings: ${0:,.2f}\".format(earnings))\n",
    "\n",
    "def pay(wage, hours):\n",
    "  if hours <= 40:\n",
    "    amount=wage * hours\n",
    "  else:\n",
    "    amount=(wage*40) + ((1.5)*wage*(hours-40))\n",
    "  return amount\n",
    "\n",
    "main()"
   ]
  },
  {
   "cell_type": "code",
   "execution_count": 6,
   "metadata": {},
   "outputs": [
    {
     "name": "stdout",
     "output_type": "stream",
     "text": [
      "The following vowels occur in the word:A I O\n"
     ]
    }
   ],
   "source": [
    "def main():\n",
    "  word = input(\"Enter a word: \")\n",
    "  listOfVowels = occurringVowels(word)\n",
    "  print(\"The following vowels occur in the word:\", end='')\n",
    "  stringOfVowels = \" \".join(listOfVowels)\n",
    "  print(stringOfVowels)\n",
    "  \n",
    "def occurringVowels(word):\n",
    "  # 대문자로 변경\n",
    "  word = word.upper()\n",
    "  # 대문자 모음 튜플 생성\n",
    "  vowels = ('A','E','I','O','U')\n",
    "  # 빈 배열 생성\n",
    "  includedVowels = []\n",
    "  for vowel in vowels:\n",
    "    # 단어 안의 모음 중복없이 가져오기\n",
    "    if (vowel in word) and (vowel not in includedVowels):\n",
    "      includedVowels.append(vowel)\n",
    "  return includedVowels\n",
    "\n",
    "main()"
   ]
  },
  {
   "cell_type": "code",
   "execution_count": 12,
   "metadata": {},
   "outputs": [
    {
     "name": "stdout",
     "output_type": "stream",
     "text": [
      "Balance: $14,802.44 / Interest Earned: $4,802.44\n"
     ]
    }
   ],
   "source": [
    "INTEREST_RATE = .04\n",
    "\n",
    "def main():\n",
    "  (deposit, numberOfYears) = getInput()\n",
    "  bal, intEarned = balAndInterest(deposit, numberOfYears)\n",
    "  displayOutput(bal, intEarned)\n",
    "\n",
    "def getInput():\n",
    "  deposit = int(input(\"Enter the amount of deposit:\"))\n",
    "  numberOfYears = int(input(\"Enter # of years:\"))\n",
    "  return (deposit, numberOfYears)\n",
    "\n",
    "def balAndInterest(principal, numYears):\n",
    "  balance = principal * ((1 + INTEREST_RATE) ** numYears)\n",
    "  interestEarned = balance - principal\n",
    "  return (balance, interestEarned)\n",
    "\n",
    "def displayOutput(bal, intEarned):\n",
    "  print(\"Balance: ${0:,.2f} / Interest Earned: ${1:,.2f}\".format(bal, intEarned))\n",
    "  \n",
    "main()"
   ]
  },
  {
   "attachments": {},
   "cell_type": "markdown",
   "metadata": {},
   "source": [
    "sort() : method / 대상을 정렬 / 결과를 반환하지 않음"
   ]
  },
  {
   "cell_type": "code",
   "execution_count": 16,
   "metadata": {},
   "outputs": [
    {
     "name": "stdout",
     "output_type": "stream",
     "text": [
      "Sorted by length in ascending order:\n",
      "['two', 'brrr', 'break', 'equals', 'sequoia', 'democratic'] \n",
      "\n",
      "Sorted by number of vowels in descending order:\n",
      "['sequoia', 'democratic', 'equals', 'break', 'two', 'brrr']\n"
     ]
    }
   ],
   "source": [
    "def main():\n",
    "  list1 = [\"democratic\",\"sequoia\",\"equals\",\"brrr\", \"break\",\"two\"]\n",
    "  # sort() : key 속성으로 정렬의 기준 변경\n",
    "  list1.sort(key=len)\n",
    "  print(\"Sorted by length in ascending order:\")\n",
    "  print(list1, '\\n')\n",
    "  # sort() : reverse 속성으로 내림차순 정렬\n",
    "  list1.sort(key = numberOfVowels, reverse = True)\n",
    "  print(\"Sorted by number of vowels in descending order:\")\n",
    "  print(list1)\n",
    "  \n",
    "def numberOfVowels(word):\n",
    "  vowels = ('a','e','i','o','u')\n",
    "  total = 0\n",
    "  for vowel in vowels:\n",
    "    total += word.count(vowel)\n",
    "  return total\n",
    "\n",
    "main()"
   ]
  },
  {
   "attachments": {},
   "cell_type": "markdown",
   "metadata": {},
   "source": [
    "sorted : function / 원본의 복사본을 만들어서 정렬"
   ]
  },
  {
   "cell_type": "code",
   "execution_count": 18,
   "metadata": {},
   "outputs": [
    {
     "name": "stdout",
     "output_type": "stream",
     "text": [
      "list1: ['white', 'blue', 'red']\n",
      "list2: ['blue', 'red', 'white']\n",
      "sorted list1(reverse): ['white', 'red', 'blue']\n",
      "sorted list1(len): ['red', 'blue', 'white']\n",
      "list1: ['white', 'blue', 'red']\n",
      "sorted spam: ['a', 'm', 'p', 's']\n"
     ]
    }
   ],
   "source": [
    "list1 = ['white','blue','red']\n",
    "print('list1:',list1)\n",
    "list2 = sorted(list1)\n",
    "print('list2:',list2)\n",
    "print('sorted list1(reverse):',sorted(list1, reverse=True))\n",
    "print('sorted list1(len):',sorted(list1, key=len))\n",
    "print('list1:',list1)\n",
    "print('sorted spam:',sorted('spam'))"
   ]
  },
  {
   "attachments": {},
   "cell_type": "markdown",
   "metadata": {},
   "source": [
    "### Library Modules : 함수모음집\n",
    "\n",
    "- 되도록 시작할 때 import\n",
    "- 모듈 내 함수 사용법\n",
    "  1. random.py 파일을 같은 위치에 저장\n",
    "  2. import\n",
    "    - 전체 함수\n",
    "      - from random import * : 함수명만 기재하여 사용\n",
    "      - import random : random.func으로 기재하여 사용\n",
    "    - 특정 함수\n",
    "      - from random import randint, choice : 특정 함수\n",
    "    - alias 활용\n",
    "      - import numpy as np\n",
    "      - from tools import combinations_with_replacement as cwr \n",
    "      - from math import log as ln"
   ]
  },
  {
   "attachments": {},
   "cell_type": "markdown",
   "metadata": {},
   "source": [
    "### List Comprehension\n",
    "- list를 반복하며 함수를 적용하고 list로 반환"
   ]
  },
  {
   "cell_type": "code",
   "execution_count": 24,
   "metadata": {},
   "outputs": [
    {
     "name": "stdout",
     "output_type": "stream",
     "text": [
      "[2, 5, 6, 7]\n",
      "[4, 25, 36, 49]\n"
     ]
    },
    {
     "data": {
      "text/plain": [
       "[25, 49]"
      ]
     },
     "execution_count": 24,
     "metadata": {},
     "output_type": "execute_result"
    }
   ],
   "source": [
    "\n",
    "list1 = ['2','5','6','7']\n",
    "print([int(x) for x in list1])\n",
    "\n",
    "def g(x):\n",
    "  return (int(x) ** 2)\n",
    "\n",
    "print([g(x) for x in list1])\n",
    "\n",
    "[g(x) for x in list1 if int(x)%2 == 1]"
   ]
  },
  {
   "attachments": {},
   "cell_type": "markdown",
   "metadata": {},
   "source": [
    "다양한 sequence에서 list comprehension 적용"
   ]
  },
  {
   "cell_type": "code",
   "execution_count": 27,
   "metadata": {},
   "outputs": [
    {
     "name": "stdout",
     "output_type": "stream",
     "text": [
      "[97, 98, 99]\n",
      "A\n",
      "[2.0, 3.0]\n",
      "[0, 1, 4]\n"
     ]
    }
   ],
   "source": [
    "# ord() : character를 아스키코드로 바꿔줌\n",
    "print([ord(x) for x in \"abc\"])\n",
    "# chr() : 아스키코드를 문자로 바꿔줌\n",
    "print(chr(65))\n",
    "print([x ** .5 for x in (4,-1,9) if x >= 0])\n",
    "print([x**2 for x in range(3)])"
   ]
  },
  {
   "attachments": {},
   "cell_type": "markdown",
   "metadata": {},
   "source": [
    "### Default Argument Values : 기본값\n",
    "\n",
    "- optional(생략가능)"
   ]
  },
  {
   "cell_type": "code",
   "execution_count": 28,
   "metadata": {},
   "outputs": [
    {
     "name": "stdout",
     "output_type": "stream",
     "text": [
      "Hello\n",
      "WorldWorldWorldWorldWorld\n"
     ]
    }
   ],
   "source": [
    "def main():\n",
    "  say('Hello')\n",
    "  say('World',5)\n",
    "  \n",
    "def say(message, times=1):\n",
    "  print(message*times)\n",
    "\n",
    "main()"
   ]
  },
  {
   "attachments": {},
   "cell_type": "markdown",
   "metadata": {},
   "source": [
    "### Keyword Arguments\n",
    "\n",
    "- 매개변수의 위치를 명시적으로 기재해주는 것"
   ]
  },
  {
   "cell_type": "code",
   "execution_count": 29,
   "metadata": {},
   "outputs": [
    {
     "name": "stdout",
     "output_type": "stream",
     "text": [
      "a is 3 and b is 7 and c is 10\n",
      "a is 25 and b is 5 and c is 24\n",
      "a is 100 and b is 5 and c is 50\n"
     ]
    }
   ],
   "source": [
    "def main():\n",
    "  func(3,7)\n",
    "  # 키워드 기재한 것과 기재하지 않은 것을 혼용할 때에는 기재하지 않은 것이 먼저 나와야 함\n",
    "  func(25,c=24)\n",
    "  func(c=50, a=100)\n",
    "\n",
    "def func(a, b=5, c=10):\n",
    "  print('a is',a,'and b is',b,'and c is',c)\n",
    "  \n",
    "main()"
   ]
  },
  {
   "attachments": {},
   "cell_type": "markdown",
   "metadata": {},
   "source": [
    "### Lambda Expression\n",
    "- 함수를 간략하게 작성\n",
    "- 복잡한 건 안됨\n",
    "\n",
    "lambda par1, par22, ... : expression"
   ]
  },
  {
   "cell_type": "code",
   "execution_count": 31,
   "metadata": {},
   "outputs": [
    {
     "name": "stdout",
     "output_type": "stream",
     "text": [
      "John Backus, James Gosling, Alan Kay, Dannis Ritchie\n"
     ]
    }
   ],
   "source": [
    "names = ['Dannis Ritchie','Alan Kay','John Backus','James Gosling']\n",
    "# lambda: 함수, name: 매개변수, name.split()[-1]: 적용내용\n",
    "names.sort(key=lambda name: name.split()[-1])\n",
    "nameString = ', '.join(names)\n",
    "print(nameString)"
   ]
  },
  {
   "attachments": {},
   "cell_type": "markdown",
   "metadata": {},
   "source": [
    "### Top-Down Design"
   ]
  }
 ],
 "metadata": {
  "kernelspec": {
   "display_name": "Python 3",
   "language": "python",
   "name": "python3"
  },
  "language_info": {
   "codemirror_mode": {
    "name": "ipython",
    "version": 3
   },
   "file_extension": ".py",
   "mimetype": "text/x-python",
   "name": "python",
   "nbconvert_exporter": "python",
   "pygments_lexer": "ipython3",
   "version": "3.11.0 (main, Oct 24 2022, 18:26:48) [MSC v.1933 64 bit (AMD64)]"
  },
  "orig_nbformat": 4,
  "vscode": {
   "interpreter": {
    "hash": "c261aea317cc0286b3b3261fbba9abdec21eaa57589985bb7a274bf54d6cc0a7"
   }
  }
 },
 "nbformat": 4,
 "nbformat_minor": 2
}
