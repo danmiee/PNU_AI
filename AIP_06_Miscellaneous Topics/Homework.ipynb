{
 "cells": [
  {
   "attachments": {},
   "cell_type": "markdown",
   "metadata": {},
   "source": [
    "Exercises 6.2"
   ]
  },
  {
   "attachments": {},
   "cell_type": "markdown",
   "metadata": {},
   "source": [
    "Write lines of code to carry  out the  stated task. Note  that the random module \n",
    "has to be imported.\n",
    "\n",
    "9. Alphabet   \n",
    "Display three letters  selected at  random from  the  alphabet."
   ]
  },
  {
   "cell_type": "code",
   "execution_count": 19,
   "metadata": {},
   "outputs": [
    {
     "name": "stdout",
     "output_type": "stream",
     "text": [
      "s k s\n"
     ]
    }
   ],
   "source": [
    "import random\n",
    "# alphabets = 'abcdefghijklmnopqrstuvwxyz'\n",
    "alphabets = [chr(c) for c in range(ord('a'), ord('z')+1)]\n",
    "\n",
    "# 중복 X (without replacement)\n",
    "# selected = random.sample(alphabets, 3)\n",
    "\n",
    "# 중복 O (with replacement)\n",
    "selected = random.choices(alphabets, k=3)\n",
    "print(' '.join(selected))"
   ]
  },
  {
   "attachments": {},
   "cell_type": "markdown",
   "metadata": {},
   "source": [
    "13. Coin   \n",
    "Toss  a  coin 100 times  and display  the number  of  times  that  a \n",
    "“Head” occurs."
   ]
  },
  {
   "cell_type": "code",
   "execution_count": 31,
   "metadata": {},
   "outputs": [
    {
     "name": "stdout",
     "output_type": "stream",
     "text": [
      "Head: 46\n"
     ]
    }
   ],
   "source": [
    "import random\n",
    "cnt = 0\n",
    "\n",
    "# Head 1 / Tail 0\n",
    "for _ in range(100):\n",
    "  if random.randint(0, 1):\n",
    "    # Head\n",
    "    cnt += 1\n",
    "\n",
    "print('Head:',cnt)"
   ]
  },
  {
   "cell_type": "code",
   "execution_count": 43,
   "metadata": {},
   "outputs": [
    {
     "name": "stdout",
     "output_type": "stream",
     "text": [
      "Head: 6018\n"
     ]
    }
   ],
   "source": [
    "import random\n",
    "cnt = 0\n",
    "\n",
    "# Head 60% / Tail 40%\n",
    "for _ in range(10000):\n",
    "  # 큰 수의 법칙 : 클수록 가까워짐\n",
    "  if random.uniform(0, 1) < 0.6:\n",
    "    # Head\n",
    "    cnt += 1\n",
    "\n",
    "print('Head:',cnt)"
   ]
  },
  {
   "attachments": {},
   "cell_type": "markdown",
   "metadata": {},
   "source": [
    "8. Sequence of Numbers    \n",
    "The following  iterative function  displays a sequence  of \n",
    "numbers. Write the  equivalent recursive function."
   ]
  },
  {
   "cell_type": "code",
   "execution_count": 44,
   "metadata": {},
   "outputs": [
    {
     "name": "stdout",
     "output_type": "stream",
     "text": [
      "5\n",
      "6\n",
      "7\n",
      "8\n",
      "9\n",
      "10\n",
      "11\n",
      "12\n",
      "13\n",
      "14\n",
      "15\n",
      "16\n",
      "17\n",
      "18\n"
     ]
    }
   ],
   "source": [
    "def displaySequenceOfNumbers(m, n):\n",
    "  ## Display the numbers from m to n, where m <= n. \n",
    "  while m <= n:\n",
    "    print(m) \n",
    "    m=m+1\n",
    "\n",
    "\n",
    "def recursiveDisplaySequenceOfNumbers(m, n):\n",
    "  if m <= n:\n",
    "    print(m)\n",
    "    recursiveDisplaySequenceOfNumbers(m+1, n)\n",
    "\n",
    "recursiveDisplaySequenceOfNumbers(5,18)"
   ]
  }
 ],
 "metadata": {
  "kernelspec": {
   "display_name": "Python 3",
   "language": "python",
   "name": "python3"
  },
  "language_info": {
   "codemirror_mode": {
    "name": "ipython",
    "version": 3
   },
   "file_extension": ".py",
   "mimetype": "text/x-python",
   "name": "python",
   "nbconvert_exporter": "python",
   "pygments_lexer": "ipython3",
   "version": "3.11.0"
  },
  "orig_nbformat": 4,
  "vscode": {
   "interpreter": {
    "hash": "c261aea317cc0286b3b3261fbba9abdec21eaa57589985bb7a274bf54d6cc0a7"
   }
  }
 },
 "nbformat": 4,
 "nbformat_minor": 2
}
