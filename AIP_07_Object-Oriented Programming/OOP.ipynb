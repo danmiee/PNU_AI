{
 "cells": [
  {
   "attachments": {},
   "cell_type": "markdown",
   "metadata": {},
   "source": [
    "## Classes and Objects\n",
    "\n",
    "- 캡슐화 : data에 접근은 못하고 method를 통해 쓸 수 있게 함"
   ]
  },
  {
   "attachments": {},
   "cell_type": "markdown",
   "metadata": {},
   "source": [
    "### User-Defined Classes(사용자정의 클래스)\n",
    "\n",
    "- 클래스의 첫번째 인자는 반드시 self여야함\n",
    "- 특정 이름을 가진 메소드\n",
    "  - __init__ : 생성자\n",
    "  - __str__ : 프린터"
   ]
  },
  {
   "cell_type": "code",
   "execution_count": 2,
   "metadata": {},
   "outputs": [],
   "source": [
    "class Rectangle:\n",
    "  # 생성자\n",
    "  def __init__(self, width=1, height=1):\n",
    "    self._width = width\n",
    "    self._height = height\n",
    "  \n",
    "  # mutator 메소드\n",
    "  def setWidth(self, width):\n",
    "    self._width = width\n",
    "  \n",
    "  def setHeight(self, height):\n",
    "    self._height = height\n",
    "  \n",
    "  # 접근 메소드\n",
    "  def getWidth(self):\n",
    "    return self._width\n",
    "  \n",
    "  def getHeight(self):\n",
    "    return self._height\n",
    "  \n",
    "  \n",
    "  def area(self):\n",
    "    return self._width * self._height\n",
    "  \n",
    "  def perimeter(self):\n",
    "    return 2*(self._width + self._height)\n",
    "  \n",
    "  # 출력함수\n",
    "  def __str__(self):\n",
    "    return (\"Width:\"+str(self._width)+\"\\nHeight:\"+str(self._height))"
   ]
  },
  {
   "cell_type": "code",
   "execution_count": 3,
   "metadata": {},
   "outputs": [
    {
     "name": "stdout",
     "output_type": "stream",
     "text": [
      "Width:4\n",
      "Height:5\n"
     ]
    }
   ],
   "source": [
    "r = Rectangle(4,5)\n",
    "print(r)"
   ]
  },
  {
   "cell_type": "code",
   "execution_count": 4,
   "metadata": {},
   "outputs": [
    {
     "name": "stdout",
     "output_type": "stream",
     "text": [
      "The rectangle has the following measurements:\n",
      "Width is 4\n",
      "Height is 5\n",
      "Area is 20\n",
      "Perimeter is 18\n"
     ]
    }
   ],
   "source": [
    "r = Rectangle()\n",
    "r.setWidth(4)\n",
    "r.setHeight(5)\n",
    "print(\"The rectangle has the following measurements:\")\n",
    "print(\"Width is\", r.getWidth())\n",
    "print(\"Height is\", r.getHeight())\n",
    "print(\"Area is\", r.area())\n",
    "print(\"Perimeter is\", r.perimeter())\n"
   ]
  },
  {
   "attachments": {},
   "cell_type": "markdown",
   "metadata": {},
   "source": [
    "### Other Methods in a Class Definition"
   ]
  },
  {
   "cell_type": "code",
   "execution_count": 5,
   "metadata": {},
   "outputs": [
    {
     "name": "stdout",
     "output_type": "stream",
     "text": [
      "\n",
      "NAME\tGRADE\n",
      "Fred\tA\n"
     ]
    }
   ],
   "source": [
    "def main():\n",
    "  name = input(\"Enter student's name:\")\n",
    "  midterm = float(input(\"Enter grade on midterm exam:\"))\n",
    "  final = float(input(\"Enter grade on final exam:\"))\n",
    "  st = LGstudent(name, midterm, final)\n",
    "  print(\"\\nNAME\\tGRADE\")\n",
    "  print(st)\n",
    "\n",
    "class LGstudent:\n",
    "  def __init__(self, name=\"\", midterm=0, final=0):\n",
    "    self._name = name\n",
    "    self._midterm = midterm\n",
    "    self._final = final\n",
    "  \n",
    "  def setName(self, name):\n",
    "    self._name = name\n",
    "    \n",
    "  def setMidterm(self, midterm):\n",
    "    self._midterm = midterm\n",
    "  \n",
    "  def setFinal(self, final):\n",
    "    self._final = final\n",
    "    \n",
    "  def calcSemGrade(self):\n",
    "    grade = (self._midterm + self._final) / 2\n",
    "    grade = round(grade)\n",
    "    \n",
    "    if grade >= 90:\n",
    "      return \"A\"\n",
    "    elif grade >= 80:\n",
    "      return \"B\"\n",
    "    elif grade >= 70:\n",
    "      return \"C\"\n",
    "    elif grade >= 60:\n",
    "      return \"D\"\n",
    "    else:\n",
    "      return \"F\"\n",
    "    \n",
    "  def __str__(self):\n",
    "    return self._name + \"\\t\" + self.calcSemGrade()\n",
    "\n",
    "main()"
   ]
  },
  {
   "attachments": {},
   "cell_type": "markdown",
   "metadata": {},
   "source": [
    "### List of Objects"
   ]
  },
  {
   "cell_type": "code",
   "execution_count": 7,
   "metadata": {},
   "outputs": [
    {
     "name": "stdout",
     "output_type": "stream",
     "text": [
      "\n",
      "NAME\tGRADE\n",
      "alice\tA\n",
      "bob\tB\n"
     ]
    }
   ],
   "source": [
    "def main():\n",
    "    listOfStudents = []\n",
    "    carryOn = 'Y'\n",
    "\n",
    "    while carryOn == 'Y':\n",
    "        st = LGstudent()\n",
    "\n",
    "        name = input(\"Enter student's name:\")\n",
    "        midterm = float(input(\"Enter grade on midterm exam:\"))\n",
    "        final = float(input(\"Enter grade on final exam:\"))\n",
    "\n",
    "        st = LGstudent(name, midterm, final)\n",
    "        listOfStudents.append(st)\n",
    "        carryOn = input(\"Do you want to continue (Y/N)?\")\n",
    "        carryOn = carryOn.upper()\n",
    "\n",
    "    print(\"\\nNAME\\tGRADE\")\n",
    "\n",
    "    for pupil in listOfStudents:\n",
    "        print(pupil)\n",
    "\n",
    "main()"
   ]
  },
  {
   "attachments": {},
   "cell_type": "markdown",
   "metadata": {},
   "source": [
    "## Inheritance(상속)\n",
    "\n",
    "- superclass에 있는 것을 subclass가 모두 상속받음\n",
    "- overriding 허용 / overleading 비허용\n",
    "  - overriding : 메소드 재정의\n",
    "  - overleading : 리턴 타입, 매개변수 변화\n",
    "- subclass에서 본인만의 initializer가 필요하면 생성자 재선언 필요하나 그렇지 않은 경우 superclass에만 작성하고 생략 가능"
   ]
  },
  {
   "attachments": {},
   "cell_type": "markdown",
   "metadata": {},
   "source": [
    "Example: A Semester Grade Class"
   ]
  },
  {
   "cell_type": "code",
   "execution_count": 8,
   "metadata": {},
   "outputs": [],
   "source": [
    "class Student:\n",
    "  def __init__(self, name=\"\", midterm=0, final=0):\n",
    "    self._name = name\n",
    "    self._midterm = midterm\n",
    "    self._final = final\n",
    "\n",
    "  def setName(self, name):\n",
    "    self._name = name\n",
    "\n",
    "  def setMidterm(self, midterm):\n",
    "    self._midterm = midterm\n",
    "\n",
    "  def setFinal(self, final):\n",
    "    self._final = final\n",
    "\n",
    "  def getName(self):\n",
    "    return self._name\n",
    "  \n",
    "  def __str__(self):\n",
    "    return self._name + \"\\t\" + self.calcSemGrade()\n",
    "\n",
    "# Student를 superclass로 갖는 LGstudent\n",
    "class LGstudent(Student):\n",
    "  # init, get, set 없지만 상속받았기에 사용 가능\n",
    "  # Grade 계산 메소드 추가\n",
    "  def calcSemGrade(self):\n",
    "    average = round((self._midterm + self._final) / 2)\n",
    "    if average >= 90:\n",
    "      return \"A\"\n",
    "    elif average >= 80:\n",
    "      return \"B\"\n",
    "    elif average >= 70:\n",
    "      return \"C\"\n",
    "    elif average >= 60:\n",
    "      return \"D\"\n",
    "    else:\n",
    "      return \"F\"\n",
    "\n",
    "class PFstudent(Student):\n",
    "  # Polymorphism(다형성) : 같은 이름, 다른 형태\n",
    "  def calcSemGrade(self):\n",
    "    average = round((self._midterm + self._final) / 2)\n",
    "    if average >= 60:\n",
    "      return \"Pass\"\n",
    "    else:\n",
    "      return \"Fail\""
   ]
  },
  {
   "cell_type": "code",
   "execution_count": 9,
   "metadata": {},
   "outputs": [
    {
     "name": "stdout",
     "output_type": "stream",
     "text": [
      "\n",
      "NAME\tGRADE\n",
      "Alice\tPass\n",
      "Bob\tB\n",
      "Carol\tC\n"
     ]
    }
   ],
   "source": [
    "def main():\n",
    "  listOfStudents = obtainListOfStudents()\n",
    "  displayResults(listOfStudents)\n",
    "\n",
    "def obtainListOfStudents():\n",
    "  listOfStudents = []\n",
    "  carryOn = 'Y'\n",
    "  while carryOn == 'Y':\n",
    "    name = input(\"Enter student's name:\")\n",
    "    midterm = float(input(\"Enter grade on midterm:\"))\n",
    "    final = float(input(\"Enter grade on final:\"))\n",
    "    category = input(\"Enter category (LG or PF):\")\n",
    "    \n",
    "    if category.upper() == \"LG\":\n",
    "      st = LGstudent(name, midterm, final)\n",
    "    else:\n",
    "      st = PFstudent(name, midterm, final)\n",
    "    \n",
    "    listOfStudents.append(st)\n",
    "    carryOn = input(\"Do you want to continue (Y/N)?\")\n",
    "    carryOn = carryOn.upper()\n",
    "  return listOfStudents\n",
    "\n",
    "def displayResults(listOfStudents):\n",
    "  print(\"\\nNAME\\tGRADE\")\n",
    "  listOfStudents.sort(key=lambda x: x.getName())\n",
    "  for pupil in listOfStudents:\n",
    "    print(pupil)\n",
    "\n",
    "main()"
   ]
  },
  {
   "attachments": {},
   "cell_type": "markdown",
   "metadata": {},
   "source": [
    "### “is-a” Relationship\n",
    "\n",
    "- Child classes are specializations of their parent’s class\n",
    "  - Have all the characteristics of their parents\n",
    "  - But, more functionality\n",
    "  - Each child satisfies the “is-a” relationship with the parents\n",
    "- E.g., each letter-grade student is a student, and each pass-fail student is a studen"
   ]
  },
  {
   "attachments": {},
   "cell_type": "markdown",
   "metadata": {},
   "source": [
    "### The isinstance Function"
   ]
  },
  {
   "cell_type": "code",
   "execution_count": 10,
   "metadata": {},
   "outputs": [
    {
     "name": "stdout",
     "output_type": "stream",
     "text": [
      "\n",
      "NAME\tGRADE\n",
      "Alice\tPass\n",
      "Carol\tC\n",
      "bob\tB\n",
      "Number of letter-grade students: 2\n",
      "Number of pass-fail students: 1\n"
     ]
    }
   ],
   "source": [
    "def displayResults(listOfStudents):\n",
    "  print(\"\\nNAME\\tGRADE\")\n",
    "  numberOfLGstudents = 0\n",
    "  listOfStudents.sort(key=lambda x: x.getName())\n",
    "  for pupil in listOfStudents:\n",
    "    print(pupil)\n",
    "    \n",
    "    if isinstance(pupil, LGstudent):\n",
    "      numberOfLGstudents += 1\n",
    "  \n",
    "  print(\"Number of letter-grade students:\", numberOfLGstudents)\n",
    "  print(\"Number of pass-fail students:\", len(listOfStudents) - numberOfLGstudents)\n",
    "\n",
    "main()"
   ]
  },
  {
   "cell_type": "code",
   "execution_count": 11,
   "metadata": {},
   "outputs": [],
   "source": [
    "class PFstudent(Student):\n",
    "  def __init__(self, name=\"\", midterm=0, final=0, fullTime=True):\n",
    "    # super().__init__(name, midterm, final)\n",
    "    # 보다 명확하게 부모클래스명 기재\n",
    "    Student.__init__(self, name, midterm, final)\n",
    "    self._fullTime = fullTime\n",
    "    \n",
    "  def setFullTime(self, fullTime):\n",
    "    self._fullTime = fullTime\n",
    "  \n",
    "  def getFullTime(self):\n",
    "    return self._fullTime\n",
    "  \n",
    "  def calcSemGrade(self):\n",
    "    average = round((self._midterm + self._final) / 2)\n",
    "    if average >= 60:\n",
    "      return \"Pass\"\n",
    "    else:\n",
    "      return \"Fail\"\n",
    "  \n",
    "  def __str__(self):\n",
    "    if self._fullTime:\n",
    "      status = \"Full-time student\"\n",
    "    else:\n",
    "      status = \"Part-time student\"\n",
    "    return (self._name + \"\\t\" + self.calcSemGrade() + \"\\t\" + status)"
   ]
  },
  {
   "cell_type": "code",
   "execution_count": 13,
   "metadata": {},
   "outputs": [
    {
     "name": "stdout",
     "output_type": "stream",
     "text": [
      "\n",
      "NAME\tGRADE\tSTATUS\n",
      "Alice\tPass\tFull-time student\n"
     ]
    }
   ],
   "source": [
    "def main():\n",
    "  name = input(\"Enter student's name:\")\n",
    "  midterm = float(input(\"Enter grade on midterm:\"))\n",
    "  final = float(input(\"Enter grade on final:\"))\n",
    "  category = input(\"Enter category (LG or PF):\")\n",
    "\n",
    "  if category.upper() == \"LG\":\n",
    "    st = LGstudent(name, midterm, final)\n",
    "  else:\n",
    "    question = input(\"Is\" + name + \" a full time student (Y/N)?\")\n",
    "    \n",
    "    if question.upper() == 'Y':\n",
    "      fullTime = True\n",
    "    else:\n",
    "      fullTime = False\n",
    "\n",
    "    st = PFstudent(name, midterm, final, fullTime)\n",
    "    \n",
    "  print(\"\\nNAME\\tGRADE\\tSTATUS\")\n",
    "  print(st)\n",
    "\n",
    "main()"
   ]
  },
  {
   "attachments": {},
   "cell_type": "markdown",
   "metadata": {},
   "source": [
    "### Overriding a Method\n",
    "\n",
    "- 같은 이름의 나만의 메소드"
   ]
  },
  {
   "cell_type": "code",
   "execution_count": 2,
   "metadata": {},
   "outputs": [
    {
     "name": "stdout",
     "output_type": "stream",
     "text": [
      "\n",
      "NAME\tGRADE\n",
      "Alice\tPass\n",
      "Bob\tB\n",
      "Carol\tC\n"
     ]
    }
   ],
   "source": [
    "def main():\n",
    "  listOfStudents = obtainListOfStudents()\n",
    "  displayResults(listOfStudents)\n",
    "\n",
    "def obtainListOfStudents():\n",
    "  listOfStudents = []\n",
    "  carryOn = 'Y'\n",
    "  while carryOn == 'Y':\n",
    "    name = input(\"Enter student's name:\")\n",
    "    midterm = float(input(\"Enter grade on midterm:\"))\n",
    "    final = float(input(\"Enter grade on final:\"))\n",
    "    category = input(\"Enter category (LG or PF):\")\n",
    "\n",
    "    if category.upper() == \"LG\":\n",
    "      st = LGstudent(name, midterm, final)\n",
    "    else:\n",
    "      st = PFstudent(name, midterm, final)\n",
    "\n",
    "    listOfStudents.append(st)\n",
    "    carryOn = input(\"Do you want to continue (Y/N)?\")\n",
    "    carryOn = carryOn.upper()\n",
    "  return listOfStudents\n",
    "\n",
    "def displayResults(listOfStudents):\n",
    "  print(\"\\nNAME\\tGRADE\")\n",
    "  listOfStudents.sort(key=lambda x: x.getName())\n",
    "  for pupil in listOfStudents:\n",
    "    print(pupil)\n",
    "\n",
    "# 사용하지 않은 Student 클래스를 없애고 LGstudent에서 생성자 선언\n",
    "class LGstudent:\n",
    "  def __init__(self, name=\"\", midterm=0, final=0):\n",
    "    self._name = name\n",
    "    self._midterm = midterm\n",
    "    self._final = final\n",
    "\n",
    "  def setName(self, name):\n",
    "    self._name = name\n",
    "\n",
    "  def setMidterm(self, midterm):\n",
    "    self._midterm = midterm\n",
    "\n",
    "  def setFinal(self, final):\n",
    "    self._final = final\n",
    "\n",
    "  def getName(self):\n",
    "    return self._name\n",
    "\n",
    "  def calcSemGrade(self):\n",
    "    average = round((self._midterm + self._final) / 2)\n",
    "    if average >= 90:\n",
    "      return \"A\"\n",
    "    elif average >= 80:\n",
    "      return \"B\"\n",
    "    elif average >= 70:\n",
    "      return \"C\"\n",
    "    elif average >= 60:\n",
    "      return \"D\"\n",
    "    else:\n",
    "      return \"F\"\n",
    "\n",
    "  def __str__(self):\n",
    "    return self._name + \"\\t\" + self.calcSemGrade()\n",
    "\n",
    "# LGstudent 클래스를 상속하여 calcSemGrade 메소드 Overriding\n",
    "class PFstudent(LGstudent):\n",
    "  def calcSemGrade(self):\n",
    "    average = round((self._midterm + self._final) / 2)\n",
    "    if average >= 60:\n",
    "      return \"Pass\"\n",
    "    else:\n",
    "      return \"Fail\"\n",
    "\n",
    "main()"
   ]
  }
 ],
 "metadata": {
  "kernelspec": {
   "display_name": "Python 3",
   "language": "python",
   "name": "python3"
  },
  "language_info": {
   "codemirror_mode": {
    "name": "ipython",
    "version": 3
   },
   "file_extension": ".py",
   "mimetype": "text/x-python",
   "name": "python",
   "nbconvert_exporter": "python",
   "pygments_lexer": "ipython3",
   "version": "3.11.0"
  },
  "orig_nbformat": 4,
  "vscode": {
   "interpreter": {
    "hash": "c261aea317cc0286b3b3261fbba9abdec21eaa57589985bb7a274bf54d6cc0a7"
   }
  }
 },
 "nbformat": 4,
 "nbformat_minor": 2
}
