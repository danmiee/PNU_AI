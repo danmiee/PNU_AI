{
 "cells": [
  {
   "cell_type": "code",
   "execution_count": 1,
   "metadata": {},
   "outputs": [
    {
     "name": "stdout",
     "output_type": "stream",
     "text": [
      "\n",
      "NAME\tGRADE\n",
      "Alice\tPass\n",
      "Bob\tB\n",
      "Carol\tC\n"
     ]
    }
   ],
   "source": [
    "import student\n",
    "\n",
    "\n",
    "def main():\n",
    "  listOfStudents = obtainListOfStudents()\n",
    "  displayResults(listOfStudents)\n",
    "\n",
    "\n",
    "def obtainListOfStudents():\n",
    "  listOfStudents = []\n",
    "  carryOn = 'Y'\n",
    "  while carryOn == 'Y':\n",
    "    name = input(\"Enter student's name:\")\n",
    "    midterm = float(input(\"Enter grade on midterm:\"))\n",
    "    final = float(input(\"Enter grade on final:\"))\n",
    "    category = input(\"Enter category (LG or PF):\")\n",
    "\n",
    "    if category.upper() == \"LG\":\n",
    "      st = student.LGstudent(name, midterm, final)\n",
    "    else:\n",
    "      st = student.PFstudent(name, midterm, final)\n",
    "\n",
    "    listOfStudents.append(st)\n",
    "    carryOn = input(\"Do you want to continue (Y/N)?\")\n",
    "    carryOn = carryOn.upper()\n",
    "  return listOfStudents\n",
    "\n",
    "\n",
    "def displayResults(listOfStudents):\n",
    "  print(\"\\nNAME\\tGRADE\")\n",
    "  listOfStudents.sort(key=lambda x: x.getName())\n",
    "  for pupil in listOfStudents:\n",
    "    print(pupil)\n",
    "\n",
    "\n",
    "main()\n"
   ]
  }
 ],
 "metadata": {
  "kernelspec": {
   "display_name": "Python 3",
   "language": "python",
   "name": "python3"
  },
  "language_info": {
   "codemirror_mode": {
    "name": "ipython",
    "version": 3
   },
   "file_extension": ".py",
   "mimetype": "text/x-python",
   "name": "python",
   "nbconvert_exporter": "python",
   "pygments_lexer": "ipython3",
   "version": "3.11.0"
  },
  "orig_nbformat": 4,
  "vscode": {
   "interpreter": {
    "hash": "c261aea317cc0286b3b3261fbba9abdec21eaa57589985bb7a274bf54d6cc0a7"
   }
  }
 },
 "nbformat": 4,
 "nbformat_minor": 2
}
