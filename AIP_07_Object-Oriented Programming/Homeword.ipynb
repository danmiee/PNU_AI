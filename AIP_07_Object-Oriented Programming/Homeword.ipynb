{
 "cells": [
  {
   "attachments": {},
   "cell_type": "markdown",
   "metadata": {},
   "source": [
    "Exercises 7.1"
   ]
  },
  {
   "attachments": {},
   "cell_type": "markdown",
   "metadata": {},
   "source": [
    "27. Fraction   \n",
    "Create a class named Fractionhaving  instance  variables  \n",
    "for numerator and denominator,  \n",
    "and a method  that reduces  a faction  to  lowest terms  \n",
    "by dividing the numerator  and denominator  by  their greatest  common divisor.  \n",
    "The code for obtaining the greatest  common divisor  \n",
    "of two nonzero integers mand nis given below.  \n",
    "Save  the class in  the file fraction.py. \n",
    "\n",
    "Note:This class will be used in  Exercises 28 and  29."
   ]
  },
  {
   "cell_type": "code",
   "execution_count": 14,
   "metadata": {},
   "outputs": [
    {
     "name": "stdout",
     "output_type": "stream",
     "text": [
      "Reduction to lowest terms: 2/5\n"
     ]
    }
   ],
   "source": [
    "class Fraction:\n",
    "  def __init__(self, numerator=0, denominator=1):\n",
    "    self._numerator = numerator\n",
    "    self._denominator = denominator\n",
    "  \n",
    "  def setNumerator(self, numerator):\n",
    "    self._numerator = numerator\n",
    "  \n",
    "  def getNumerator(self):\n",
    "    return self._numerator\n",
    "  \n",
    "  def setDenominator(self, denominator):\n",
    "    self._denominator = denominator\n",
    "    \n",
    "  def getDenominator(self):\n",
    "    return self._denominator\n",
    "  \n",
    "  # 첫번째 인자 self 필수\n",
    "  def GCD(self, m, n):  # Greatest Common Divisor\n",
    "    while n != 0:\n",
    "      t = n\n",
    "      n = m % n\n",
    "      m = t\n",
    "    return m\n",
    "  \n",
    "  def reduce(self):\n",
    "    gcd = self.GCD(self._numerator, self._denominator)\n",
    "    self._numerator = self._numerator // gcd\n",
    "    self._denominator = self._denominator // gcd\n",
    "\n",
    "def main():\n",
    "  f = Fraction()\n",
    "  numerator = int(input(\"Enter numerator of fraction:\"))\n",
    "  f.setNumerator(numerator)\n",
    "  denominator = int(input(\"Enter denominator of fraction:\"))\n",
    "  f.setDenominator(denominator)\n",
    "  f.reduce()\n",
    "  \n",
    "  msg = \"Reduction to lowest terms:\"\n",
    "  \n",
    "  if f.getDenominator() != 1:\n",
    "    print(msg, str(f.getNumerator()) + '/' + str(f.getDenominator()))\n",
    "  else:\n",
    "    print(msg, f.getNumerator())\n",
    "\n",
    "main()\n"
   ]
  }
 ],
 "metadata": {
  "kernelspec": {
   "display_name": "Python 3",
   "language": "python",
   "name": "python3"
  },
  "language_info": {
   "codemirror_mode": {
    "name": "ipython",
    "version": 3
   },
   "file_extension": ".py",
   "mimetype": "text/x-python",
   "name": "python",
   "nbconvert_exporter": "python",
   "pygments_lexer": "ipython3",
   "version": "3.11.0"
  },
  "orig_nbformat": 4,
  "vscode": {
   "interpreter": {
    "hash": "c261aea317cc0286b3b3261fbba9abdec21eaa57589985bb7a274bf54d6cc0a7"
   }
  }
 },
 "nbformat": 4,
 "nbformat_minor": 2
}
